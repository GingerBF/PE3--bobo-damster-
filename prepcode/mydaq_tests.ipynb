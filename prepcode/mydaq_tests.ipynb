{
 "cells": [
  {
   "cell_type": "code",
   "execution_count": 3,
   "id": "78e98133",
   "metadata": {},
   "outputs": [
    {
     "ename": "AttributeError",
     "evalue": "module 'mydaq' has no attribute 'MyDAQ'",
     "output_type": "error",
     "traceback": [
      "\u001b[31m---------------------------------------------------------------------------\u001b[39m",
      "\u001b[31mAttributeError\u001b[39m                            Traceback (most recent call last)",
      "\u001b[36mCell\u001b[39m\u001b[36m \u001b[39m\u001b[32mIn[3]\u001b[39m\u001b[32m, line 3\u001b[39m\n\u001b[32m      1\u001b[39m \u001b[38;5;28;01mimport\u001b[39;00m\u001b[38;5;250m \u001b[39m\u001b[34;01mmydaq\u001b[39;00m\u001b[38;5;250m \u001b[39m\u001b[38;5;28;01mas\u001b[39;00m\u001b[38;5;250m \u001b[39m\u001b[34;01mmd\u001b[39;00m\n\u001b[32m----> \u001b[39m\u001b[32m3\u001b[39m daq = \u001b[43mmd\u001b[49m\u001b[43m.\u001b[49m\u001b[43mMyDAQ\u001b[49m()\n\u001b[32m      4\u001b[39m daq.name = \u001b[33m'\u001b[39m\u001b[33mMyDAQ1\u001b[39m\u001b[33m'\u001b[39m\n\u001b[32m      5\u001b[39m daq.samplerate = \u001b[32m200000\u001b[39m\n",
      "\u001b[31mAttributeError\u001b[39m: module 'mydaq' has no attribute 'MyDAQ'"
     ]
    }
   ],
   "source": [
    "import mydaq as md\n",
    "\n",
    "daq = md.MyDAQ()\n",
    "daq.name = 'MyDAQ1'\n",
    "daq.samplerate = 200000\n",
    "read_channel = ['AI0', 'AI1']\t\n",
    "write_channel = 'AO0'"
   ]
  },
  {
   "cell_type": "code",
   "execution_count": null,
   "id": "d94b48de",
   "metadata": {},
   "outputs": [],
   "source": []
  }
 ],
 "metadata": {
  "kernelspec": {
   "display_name": "Python 3",
   "language": "python",
   "name": "python3"
  },
  "language_info": {
   "codemirror_mode": {
    "name": "ipython",
    "version": 3
   },
   "file_extension": ".py",
   "mimetype": "text/x-python",
   "name": "python",
   "nbconvert_exporter": "python",
   "pygments_lexer": "ipython3",
   "version": "3.11.9"
  }
 },
 "nbformat": 4,
 "nbformat_minor": 5
}
