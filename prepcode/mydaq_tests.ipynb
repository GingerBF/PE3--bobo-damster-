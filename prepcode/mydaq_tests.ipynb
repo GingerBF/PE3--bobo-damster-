{
 "cells": [
  {
   "cell_type": "code",
   "execution_count": 5,
   "id": "78e98133",
   "metadata": {},
   "outputs": [],
   "source": [
    "from libraries.mydaq import MyDAQ\n",
    "from libraries import functions as H\n",
    "import matplotlib.pyplot as plt\n",
    "import numpy as np\n",
    "import nidaqmx as dx\n",
    "from scipy.signal import sawtooth, square\n",
    "import libraries as H\n",
    "from scipy.fft import rfft, rfftfreq, irfft\n",
    "from time import sleep\n",
    "import sounddevice as sd\n",
    "from scipy.io.wavfile import write\n",
    "from scipy import integrate\n",
    "from scipy.interpolate import interp1d\n",
    "from scipy.optimize import root_scalar\n",
    "from scipy.optimize import curve_fit\n",
    "from scipy.optimize import minimize_scalar\n",
    "import time\n",
    "all_list = [H.RC_C, H.RCRC_CC, H.RLC_sC, H.RLC_sRC, H.RLC_pC, H.RLC_pRL, H.RL_R, H.CL_C, H.RC_R, H.RCRC_RR, H.RLC_sL, H.RLC_sRL, H.RLC_pL, H.RLC_pRC, H.RL_L, H.CL_L, H.RLC_sR, H.RLC_sLC, H.RLC_pR, H.RLC_pLC]\n",
    "\n",
    "daq = MyDAQ()\n",
    "daq.name = 'MyDAQ1'\n",
    "daq.samplerate = 200000\n",
    "read_channel = ['AI0', 'AI1']\t\n",
    "write_channel = 'AO0'"
   ]
  },
  {
   "cell_type": "code",
   "execution_count": null,
   "id": "d94b48de",
   "metadata": {},
   "outputs": [],
   "source": [
    "duration = 10\n",
    "amplitude = 5\n",
    "min_log_freq = np.log10(1/duration)\n",
    "frequencies = np.array([10000])#np.logspace(1, 5, 100)\n",
    "frequencies = np.unique(np.round(frequencies))\n",
    "frequencies = frequencies[frequencies != 0]\n",
    "\n",
    "daq.write()"
   ]
  },
  {
   "cell_type": "code",
   "execution_count": null,
   "id": "3de054e7",
   "metadata": {},
   "outputs": [],
   "source": []
  }
 ],
 "metadata": {
  "kernelspec": {
   "display_name": "Python 3",
   "language": "python",
   "name": "python3"
  },
  "language_info": {
   "codemirror_mode": {
    "name": "ipython",
    "version": 3
   },
   "file_extension": ".py",
   "mimetype": "text/x-python",
   "name": "python",
   "nbconvert_exporter": "python",
   "pygments_lexer": "ipython3",
   "version": "3.11.9"
  }
 },
 "nbformat": 4,
 "nbformat_minor": 5
}
