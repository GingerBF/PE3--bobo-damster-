{
 "cells": [
  {
   "cell_type": "code",
   "execution_count": 46,
   "id": "9bfebc86",
   "metadata": {},
   "outputs": [
    {
     "name": "stdout",
     "output_type": "stream",
     "text": [
      "('USB0::0xF4ED::0xEE3A::SDG08CBX7R0713::INSTR', 'USB0::0xF4ED::0xEE3A::SDG08CBX5R0530::INSTR', 'ASRL3::INSTR', 'ASRL4::INSTR')\n"
     ]
    }
   ],
   "source": [
    "import pyvisa\n",
    "import time\n",
    "\n",
    "rm = pyvisa.ResourceManager()\n",
    "print(rm.list_resources())"
   ]
  },
  {
   "cell_type": "code",
   "execution_count": null,
   "id": "c0dda97c",
   "metadata": {},
   "outputs": [
    {
     "name": "stdout",
     "output_type": "stream",
     "text": [
      "*IDN SDG,SDG830,SDG08CBX7R0713,1.08.01.15R3,08-00-00-13-00\n",
      "\n"
     ]
    }
   ],
   "source": [
    "rm = pyvisa.ResourceManager()\n",
    "inst1 = rm.open_resource(rm.list_resources()[0])  # Use your exact address\n",
    "inst2 = rm.open_resource(rm.list_resources()[1])\n",
    "print(inst1.query(\"*IDN?\"))\n",
    "# Set frequency and amplitude if needed\n",
    "\n",
    "inst1.write('C1:BSWV FRQ,3;C1:BSWV PHSE,00;C1:BSWV AMP,3')#inst1.write('C1:BSWV AMP,2')          # 2Vpp\n",
    "inst2.write('C1:BSWV FRQ,3;C1:BSWV PHSE,90;C1:BSWV AMP,3')        # 1kHz\n",
    "\n",
    "\n",
    "# Change phase dynamically\n",
    "#for phase in range(0, 360, 10):  # from 0 to 350 degrees\n",
    "#    inst1.write(f'C1:BSWV PHSE,{phase}')\n",
    "#    time.sleep(1)  # delay between updates\n",
    "\n",
    "inst1.close()\n",
    "inst2.close()\n",
    "rm.close()"
   ]
  },
  {
   "cell_type": "code",
   "execution_count": 48,
   "id": "6f41c0ad",
   "metadata": {},
   "outputs": [],
   "source": [
    "boven = 'USB0::0xF4ED::0xEE3A::SDG08CBX7R0713::INSTR'"
   ]
  },
  {
   "cell_type": "code",
   "execution_count": null,
   "id": "59fae7c3",
   "metadata": {},
   "outputs": [],
   "source": []
  }
 ],
 "metadata": {
  "kernelspec": {
   "display_name": "Python 3",
   "language": "python",
   "name": "python3"
  },
  "language_info": {
   "codemirror_mode": {
    "name": "ipython",
    "version": 3
   },
   "file_extension": ".py",
   "mimetype": "text/x-python",
   "name": "python",
   "nbconvert_exporter": "python",
   "pygments_lexer": "ipython3",
   "version": "3.11.9"
  }
 },
 "nbformat": 4,
 "nbformat_minor": 5
}
