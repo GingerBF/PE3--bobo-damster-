{
 "cells": [
  {
   "cell_type": "code",
   "execution_count": 80,
   "id": "9bfebc86",
   "metadata": {},
   "outputs": [
    {
     "name": "stdout",
     "output_type": "stream",
     "text": [
      "('USB0::0xF4ED::0xEE3A::SDG08CBX5R0530::INSTR', 'USB0::0xF4ED::0xEE3A::SDG08CBX7R0701::INSTR', 'ASRL3::INSTR', 'ASRL4::INSTR')\n"
     ]
    }
   ],
   "source": [
    "import pyvisa\n",
    "import time\n",
    "\n",
    "rm = pyvisa.ResourceManager()\n",
    "print(rm.list_resources())"
   ]
  },
  {
   "cell_type": "code",
   "execution_count": 82,
   "id": "c0dda97c",
   "metadata": {},
   "outputs": [
    {
     "name": "stdout",
     "output_type": "stream",
     "text": [
      "*IDN SDG,SDG830,SDG08CBX5R0530,1.08.01.15,06-00-00-12-00\n",
      "\n"
     ]
    }
   ],
   "source": [
    "rm = pyvisa.ResourceManager()\n",
    "inst1 = rm.open_resource(rm.list_resources()[0])  # Use your exact address\n",
    "inst2 = rm.open_resource(rm.list_resources()[1])\n",
    "print(inst1.query(\"*IDN?\"))\n",
    "# Set frequency and amplitude if needed\n",
    "\n",
    "inst1.write('OUTP1 ON')\n",
    "# Slave: enable gated burst (external trigger)\n",
    "inst2.write('C1:BSWV GATE,EXT')        # switch to external gating\n",
    "inst2.write('C1:BSWV CYCLES,INF')      # infinite cycles\n",
    "inst2.write('OUTP1 ON')\n",
    "\n",
    "inst1.write('C1:BSWV FRQ,100;C1:BSWV PHSE,00;C1:BSWV AMP,3')#inst1.write('C1:BSWV AMP,2')          # 2Vpp\n",
    "inst2.write('C1:BSWV FRQ,100.0;C1:BSWV PHSE,90;C1:BSWV AMP,3')        # 1kHz\n",
    "\n",
    "\n",
    "# Change phase dynamically\n",
    "#for phase in range(0, 360, 10):  # from 0 to 350 degrees\n",
    "#    inst1.write(f'C1:BSWV PHSE,{phase}')\n",
    "#    time.sleep(1)  # delay between updates\n",
    "\n",
    "inst1.close()\n",
    "inst2.close()\n",
    "rm.close()"
   ]
  },
  {
   "cell_type": "code",
   "execution_count": 48,
   "id": "6f41c0ad",
   "metadata": {},
   "outputs": [],
   "source": [
    "boven = 'USB0::0xF4ED::0xEE3A::SDG08CBX7R0713::INSTR'"
   ]
  },
  {
   "cell_type": "code",
   "execution_count": 75,
   "id": "59fae7c3",
   "metadata": {},
   "outputs": [
    {
     "name": "stdout",
     "output_type": "stream",
     "text": [
      "Master: *IDN SDG,SDG830,SDG08CBX7R0713,1.08.01.15R3,08-00-00-13-00\n",
      "\n",
      "Slave: *IDN SDG,SDG830,SDG08CBX5R0530,1.08.01.15,06-00-00-12-00\n",
      "\n"
     ]
    },
    {
     "data": {
      "text/plain": [
       "9"
      ]
     },
     "execution_count": 75,
     "metadata": {},
     "output_type": "execute_result"
    }
   ],
   "source": [
    "rm = pyvisa.ResourceManager()\n",
    "inst1 = rm.open_resource(rm.list_resources()[0])  # Trigger master\n",
    "inst2 = rm.open_resource(rm.list_resources()[1])  # Trigger slave\n",
    "\n",
    "# Optional: Identify devices\n",
    "print(\"Master:\", inst1.query(\"*IDN?\"))\n",
    "print(\"Slave:\", inst2.query(\"*IDN?\"))\n",
    "\n",
    "# --- Configure Channel 1 (Sine) ---\n",
    "inst1.write(\"C1:BSWV WVTP,SINE\")        # Sine wave\n",
    "inst1.write(\"C1:BSWV FRQ,1000\")         # 1kHz\n",
    "inst1.write(\"C1:BSWV AMP,3\")            # 3Vpp\n",
    "inst1.write(\"C1:BSWV PHSE,0\")           # 0° phase\n",
    "inst1.write(\"C1:BTWV STATE,ON\")         # Enable burst mode\n",
    "inst1.write(\"C1:BTWV MODE,TRIG\")        # Triggered burst\n",
    "inst1.write(\"C1:BTWV TRSR,MAN\")         # Manual trigger\n",
    "inst1.write(\"C1:BTWV CYC,INF\")          # Infinite cycles after trigger\n",
    "inst1.write(\"C1:OUTP ON\")               # Arm output (await trigger)\n",
    "\n",
    "# --- Configure Channel 2 (Cosine, 90° phase shift) ---\n",
    "inst2.write(\"C1:BSWV WVTP,SINE\")\n",
    "inst2.write(\"C1:BSWV FRQ,1000\")\n",
    "inst2.write(\"C1:BSWV AMP,3\")\n",
    "inst2.write(\"C1:BSWV PHSE,90\")          # 90° = cosine\n",
    "inst2.write(\"C1:BTWV STATE,ON\")\n",
    "inst2.write(\"C1:BTWV MODE,TRIG\")\n",
    "inst2.write(\"C1:BTWV TRSR,EXT\")         # Wait for external trigger (from Inst1)\n",
    "inst2.write(\"C1:BTWV CYC,INF\")\n",
    "inst2.write(\"C1:OUTP ON\")               # Arm output\n",
    "\n",
    "time.sleep(0.5)  # Wait for settings to apply\n",
    "\n",
    "inst1.write(\"C1:TRIG\")                   # Fire manual trigger (Inst2 receives pulse via BNC)\n",
    "\n",
    "# Done: Both channels now running, 90° apart"
   ]
  },
  {
   "cell_type": "code",
   "execution_count": null,
   "id": "7518c390",
   "metadata": {},
   "outputs": [],
   "source": []
  }
 ],
 "metadata": {
  "kernelspec": {
   "display_name": "Python 3",
   "language": "python",
   "name": "python3"
  },
  "language_info": {
   "codemirror_mode": {
    "name": "ipython",
    "version": 3
   },
   "file_extension": ".py",
   "mimetype": "text/x-python",
   "name": "python",
   "nbconvert_exporter": "python",
   "pygments_lexer": "ipython3",
   "version": "3.11.9"
  }
 },
 "nbformat": 4,
 "nbformat_minor": 5
}
