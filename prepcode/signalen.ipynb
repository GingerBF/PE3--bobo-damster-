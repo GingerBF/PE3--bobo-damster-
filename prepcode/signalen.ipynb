{
 "cells": [
  {
   "cell_type": "code",
   "execution_count": 1,
   "id": "a27fd276",
   "metadata": {},
   "outputs": [],
   "source": [
    "import numpy as np\n",
    "import matplotlib.pyplot as plt"
   ]
  },
  {
   "cell_type": "code",
   "execution_count": null,
   "id": "32e8be80",
   "metadata": {},
   "outputs": [],
   "source": [
    "import numpy as np\n",
    "\n",
    "class FMConverter:\n",
    "    def __init__(self):\n",
    "        pass\n",
    "\n",
    "    @staticmethod\n",
    "    def text_to_binary(text):\n",
    "        return ' '.join(format(ord(char), '08b') for char in text)\n",
    "\n",
    "    @staticmethod\n",
    "    def binary_to_text(binary):\n",
    "        chars = binary.split()\n",
    "        return ''.join(chr(int(b, 2)) for b in chars)\n",
    "\n",
    "    def binary_to_fm(self, binary_msg, fmType):\n",
    "        if fmType == 1:\n",
    "            # FM Type 1: BPSK\n",
    "            binary_msg_nospace = binary_msg.replace(' ', '')\n",
    "            return np.array([0 if bit == '0' else 180 for bit in binary_msg_nospace])\n",
    "\n",
    "        elif fmType == 2:\n",
    "            # FM Type 2: QPSK-like mapping\n",
    "            binary_msg_nospace = binary_msg.replace(' ', '')\n",
    "            phases = np.array([\n",
    "                0 if binary_msg_nospace[i:i+2] == '00' else\n",
    "                90 if binary_msg_nospace[i:i+2] == '01' else\n",
    "                180 if binary_msg_nospace[i:i+2] == '10' else\n",
    "                270\n",
    "                for i in range(0, len(binary_msg_nospace), 2)\n",
    "            ])\n",
    "            return phases\n",
    "\n",
    "        else:\n",
    "            raise ValueError(\"Unsupported FM type. Use 1 or 2.\")\n",
    "\n",
    "    def fm_to_binary(self, fm_signal, fmType):\n",
    "        if fmType == 1:\n",
    "            binary_msg = ''.join('0' if phase == 0 else '1' for phase in fm_signal)\n",
    "            return ' '.join(binary_msg[i:i+8] for i in range(0, len(binary_msg), 8))\n",
    "\n",
    "        elif fmType == 2:\n",
    "            binary_msg = ''\n",
    "            for i in range(0, len(fm_signal), 1):  # Changed to step=1 to match encoding\n",
    "                phase = fm_signal[i]\n",
    "                if phase == 0:\n",
    "                    binary_msg += '00'\n",
    "                elif phase == 90:\n",
    "                    binary_msg += '01'\n",
    "                elif phase == 180:\n",
    "                    binary_msg += '10'\n",
    "                elif phase == 270:\n",
    "                    binary_msg += '11'\n",
    "                else:\n",
    "                    raise ValueError(f\"Unexpected phase value: {phase}\")\n",
    "            return ' '.join(binary_msg[i:i+8] for i in range(0, len(binary_msg), 8))\n",
    "\n",
    "        else:\n",
    "            raise ValueError(\"Unsupported FM type. Use 1 or 2.\")\n",
    "        \n",
    "    def fm_to_amplitudes(self, fm_signal, f, fs, sps):\n",
    "        signal = np.array([A * np.cos(np.radians(phi)) for phi in fm_signal], [A * np.sin(np.radians(phi)) for phi in fm_signal])\n"
   ]
  },
  {
   "cell_type": "code",
   "execution_count": 2,
   "id": "e02e6803",
   "metadata": {},
   "outputs": [
    {
     "name": "stdout",
     "output_type": "stream",
     "text": [
      "Binary: 01001000 01101001\n",
      "FM Signal (Type 1): [  0 180   0   0 180   0   0   0   0 180 180   0 180   0   0 180]\n",
      "Recovered Binary: 01001000 01101001\n",
      "Recovered Text: Hi\n"
     ]
    }
   ],
   "source": [
    "fm = FMConverter()\n",
    "\n",
    "text = \"Hi\"\n",
    "binary = fm.text_to_binary(text)\n",
    "print(\"Binary:\", binary)\n",
    "\n",
    "fm_signal = fm.binary_to_fm(binary, fmType=1)\n",
    "print(\"FM Signal (Type 1):\", fm_signal)\n",
    "\n",
    "binary_back = fm.fm_to_binary(fm_signal, fmType=1)\n",
    "print(\"Recovered Binary:\", binary_back)\n",
    "\n",
    "text_back = fm.binary_to_text(binary_back)\n",
    "print(\"Recovered Text:\", text_back)\n"
   ]
  },
  {
   "cell_type": "code",
   "execution_count": null,
   "id": "26ddf1ec",
   "metadata": {},
   "outputs": [],
   "source": []
  },
  {
   "cell_type": "code",
   "execution_count": null,
   "id": "14345491",
   "metadata": {},
   "outputs": [],
   "source": []
  },
  {
   "cell_type": "code",
   "execution_count": null,
   "id": "22d4c10f",
   "metadata": {},
   "outputs": [],
   "source": []
  },
  {
   "cell_type": "code",
   "execution_count": null,
   "id": "6ae8a7c7",
   "metadata": {},
   "outputs": [],
   "source": []
  }
 ],
 "metadata": {
  "kernelspec": {
   "display_name": "Python 3",
   "language": "python",
   "name": "python3"
  },
  "language_info": {
   "codemirror_mode": {
    "name": "ipython",
    "version": 3
   },
   "file_extension": ".py",
   "mimetype": "text/x-python",
   "name": "python",
   "nbconvert_exporter": "python",
   "pygments_lexer": "ipython3",
   "version": "3.11.9"
  }
 },
 "nbformat": 4,
 "nbformat_minor": 5
}
