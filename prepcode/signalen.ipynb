{
 "cells": [
  {
   "cell_type": "code",
   "execution_count": null,
   "id": "a27fd276",
   "metadata": {},
   "outputs": [],
   "source": [
    "import numpy as np\n",
    "import matplotlib.pyplot as plt"
   ]
  },
  {
   "cell_type": "code",
   "execution_count": null,
   "id": "32e8be80",
   "metadata": {},
   "outputs": [],
   "source": [
    "def text_to_binary(text):\n",
    "    return ' '.join(format(ord(char), '08b') for char in text)\n",
    "\n",
    "def binary_to_text(binary):\n",
    "    chars = binary.split()\n",
    "    return ''.join(chr(int(b, 2)) for b in chars)\n",
    "\n",
    "def binary_to_fm(binary_msg, fmType):\n",
    "    if fmType == 1:\n",
    "        # FM Type 1: Binary Phase Shift Keying (BPSK)\n",
    "        binary_msg_nospace = binary_msg.replace(' ', '')\n",
    "\n",
    "        return np.array([0 if bit == '0' else 180 for bit in binary_msg_nospace])\n",
    "    elif fmType == 2:\n",
    "        phases = np.array([\n",
    "            0 if binary_msg[i:i+2] == '00' else\n",
    "            90 if binary_msg[i:i+2] == '01' else\n",
    "            180 if binary_msg[i:i+2] == '10' else\n",
    "            270\n",
    "            for i in range(0, len(binary_msg), 2)\n",
    "        ])\n",
    "        return phases\n",
    "    \n",
    "def fm_to_binary(fm_signal, fmType):\n",
    "    if fmType == 1:\n",
    "        binary_msg =  ''.join('0' if phase == 0 else '1' for phase in fm_signal)\n",
    "        return ' '.join(binary_msg[i:i+8] for i in range(0, len(binary_msg), 8))\n",
    "    elif fmType == 2:\n",
    "        binary_msg = ''\n",
    "        for i in range(0, len(fm_signal), 2):\n",
    "            if fm_signal[i] == 0 and fm_signal[i+1] == 90:\n",
    "                binary_msg += '00'\n",
    "            elif fm_signal[i] == 90 and fm_signal[i+1] == 180:\n",
    "                binary_msg += '01'\n",
    "            elif fm_signal[i] == 180 and fm_signal[i+1] == 270:\n",
    "                binary_msg += '10'\n",
    "            else:\n",
    "                binary_msg += '11'\n",
    "        return ' '.join(binary_msg[i:i+8] for i in range(0, len(binary_msg), 8))"
   ]
  },
  {
   "cell_type": "code",
   "execution_count": null,
   "id": "e02e6803",
   "metadata": {},
   "outputs": [],
   "source": []
  },
  {
   "cell_type": "code",
   "execution_count": 3,
   "id": "26ddf1ec",
   "metadata": {},
   "outputs": [
    {
     "ename": "NameError",
     "evalue": "name 'text_to_binary' is not defined",
     "output_type": "error",
     "traceback": [
      "\u001b[1;31m---------------------------------------------------------------------------\u001b[0m",
      "\u001b[1;31mNameError\u001b[0m                                 Traceback (most recent call last)",
      "Cell \u001b[1;32mIn[3], line 4\u001b[0m\n\u001b[0;32m      1\u001b[0m fmType \u001b[38;5;241m=\u001b[39m \u001b[38;5;241m1\u001b[39m\n\u001b[0;32m      3\u001b[0m message \u001b[38;5;241m=\u001b[39m \u001b[38;5;124m\"\u001b[39m\u001b[38;5;124mHello\u001b[39m\u001b[38;5;124m\"\u001b[39m\n\u001b[1;32m----> 4\u001b[0m binary_msg \u001b[38;5;241m=\u001b[39m text_to_binary(message)\n\u001b[0;32m      5\u001b[0m \u001b[38;5;28mprint\u001b[39m(binary_msg)\n\u001b[0;32m      8\u001b[0m fm_signal \u001b[38;5;241m=\u001b[39m binary_to_fm(binary_msg, fmType)\n",
      "\u001b[1;31mNameError\u001b[0m: name 'text_to_binary' is not defined"
     ]
    }
   ],
   "source": [
    "fmType = 1\n",
    "\n",
    "message = \"Hello\"\n",
    "binary_msg = text_to_binary(message)\n",
    "print(binary_msg)\n",
    "\n",
    "\n",
    "fm_signal = binary_to_fm(binary_msg, fmType)\n",
    "print(\"FM Signal:\", fm_signal)\n",
    "\n",
    "fm_to_binary_signal = fm_to_binary(fm_signal, fmType)\n",
    "print(fm_to_binary_signal)\n",
    "\n",
    "binary_msg = binary_to_text(fm_to_binary_signal)\n",
    "print(\"Original Message from FM Signal:\", binary_msg)"
   ]
  },
  {
   "cell_type": "code",
   "execution_count": null,
   "id": "14345491",
   "metadata": {},
   "outputs": [],
   "source": []
  },
  {
   "cell_type": "code",
   "execution_count": 1,
   "id": "22d4c10f",
   "metadata": {},
   "outputs": [
    {
     "name": "stdout",
     "output_type": "stream",
     "text": [
      "boaz je bent een loser\n"
     ]
    }
   ],
   "source": [
    "print('boaz je bent een loser')"
   ]
  },
  {
   "cell_type": "code",
   "execution_count": null,
   "id": "6ae8a7c7",
   "metadata": {},
   "outputs": [],
   "source": []
  }
 ],
 "metadata": {
  "kernelspec": {
   "display_name": "base",
   "language": "python",
   "name": "python3"
  },
  "language_info": {
   "codemirror_mode": {
    "name": "ipython",
    "version": 3
   },
   "file_extension": ".py",
   "mimetype": "text/x-python",
   "name": "python",
   "nbconvert_exporter": "python",
   "pygments_lexer": "ipython3",
   "version": "3.11.4"
  }
 },
 "nbformat": 4,
 "nbformat_minor": 5
}
