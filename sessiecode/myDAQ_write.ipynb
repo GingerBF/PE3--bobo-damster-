{
 "cells": [
  {
   "cell_type": "code",
   "execution_count": 1,
   "id": "941e2393",
   "metadata": {},
   "outputs": [
    {
     "ename": "DaqError",
     "evalue": "The specified resource is reserved. The operation could not be completed as specified.\nTask Name: _unnamedTask<0>\n\nStatus Code: -50103",
     "output_type": "error",
     "traceback": [
      "\u001b[31m---------------------------------------------------------------------------\u001b[39m",
      "\u001b[31mDaqError\u001b[39m                                  Traceback (most recent call last)",
      "\u001b[36mCell\u001b[39m\u001b[36m \u001b[39m\u001b[32mIn[1]\u001b[39m\u001b[32m, line 25\u001b[39m\n\u001b[32m     18\u001b[39m task.timing.cfg_samp_clk_timing(\n\u001b[32m     19\u001b[39m     rate=sample_rate,\n\u001b[32m     20\u001b[39m     sample_mode=AcquisitionType.CONTINUOUS,\n\u001b[32m     21\u001b[39m     samps_per_chan=batch_size * \u001b[32m2\u001b[39m  \u001b[38;5;66;03m# Internal buffer size\u001b[39;00m\n\u001b[32m     22\u001b[39m )\n\u001b[32m     24\u001b[39m \u001b[38;5;66;03m# 3. Start the task\u001b[39;00m\n\u001b[32m---> \u001b[39m\u001b[32m25\u001b[39m \u001b[43mtask\u001b[49m\u001b[43m.\u001b[49m\u001b[43mstart\u001b[49m\u001b[43m(\u001b[49m\u001b[43m)\u001b[49m\n\u001b[32m     26\u001b[39m \u001b[38;5;28mprint\u001b[39m(\u001b[33mf\u001b[39m\u001b[33m\"\u001b[39m\u001b[33mReading from \u001b[39m\u001b[38;5;132;01m{\u001b[39;00mchannel\u001b[38;5;132;01m}\u001b[39;00m\u001b[33m for \u001b[39m\u001b[38;5;132;01m{\u001b[39;00mduration\u001b[38;5;132;01m}\u001b[39;00m\u001b[33m seconds...\u001b[39m\u001b[33m\"\u001b[39m)\n\u001b[32m     28\u001b[39m start_time = time.time()\n",
      "\u001b[36mFile \u001b[39m\u001b[32m~\\AppData\\Local\\Packages\\PythonSoftwareFoundation.Python.3.11_qbz5n2kfra8p0\\LocalCache\\local-packages\\Python311\\site-packages\\nidaqmx\\task\\_task.py:1008\u001b[39m, in \u001b[36mTask.start\u001b[39m\u001b[34m(self)\u001b[39m\n\u001b[32m    991\u001b[39m \u001b[38;5;28;01mdef\u001b[39;00m\u001b[38;5;250m \u001b[39m\u001b[34mstart\u001b[39m(\u001b[38;5;28mself\u001b[39m):\n\u001b[32m    992\u001b[39m \u001b[38;5;250m    \u001b[39m\u001b[33;03m\"\"\"\u001b[39;00m\n\u001b[32m    993\u001b[39m \u001b[33;03m    Transitions the task to the running state to begin the measurement\u001b[39;00m\n\u001b[32m    994\u001b[39m \u001b[33;03m    or generation. Using this method is required for some applications and\u001b[39;00m\n\u001b[32m   (...)\u001b[39m\u001b[32m   1006\u001b[39m \u001b[33;03m    performance of the application.\u001b[39;00m\n\u001b[32m   1007\u001b[39m \u001b[33;03m    \"\"\"\u001b[39;00m\n\u001b[32m-> \u001b[39m\u001b[32m1008\u001b[39m     \u001b[38;5;28;43mself\u001b[39;49m\u001b[43m.\u001b[49m\u001b[43m_interpreter\u001b[49m\u001b[43m.\u001b[49m\u001b[43mstart_task\u001b[49m\u001b[43m(\u001b[49m\u001b[38;5;28;43mself\u001b[39;49m\u001b[43m.\u001b[49m\u001b[43m_handle\u001b[49m\u001b[43m)\u001b[49m\n",
      "\u001b[36mFile \u001b[39m\u001b[32m~\\AppData\\Local\\Packages\\PythonSoftwareFoundation.Python.3.11_qbz5n2kfra8p0\\LocalCache\\local-packages\\Python311\\site-packages\\nidaqmx\\_library_interpreter.py:5769\u001b[39m, in \u001b[36mLibraryInterpreter.start_task\u001b[39m\u001b[34m(self, task)\u001b[39m\n\u001b[32m   5764\u001b[39m             cfunc.argtypes = [\n\u001b[32m   5765\u001b[39m                 lib_importer.task_handle]\n\u001b[32m   5767\u001b[39m error_code = cfunc(\n\u001b[32m   5768\u001b[39m     task)\n\u001b[32m-> \u001b[39m\u001b[32m5769\u001b[39m \u001b[38;5;28;43mself\u001b[39;49m\u001b[43m.\u001b[49m\u001b[43mcheck_for_error\u001b[49m\u001b[43m(\u001b[49m\u001b[43merror_code\u001b[49m\u001b[43m)\u001b[49m\n",
      "\u001b[36mFile \u001b[39m\u001b[32m~\\AppData\\Local\\Packages\\PythonSoftwareFoundation.Python.3.11_qbz5n2kfra8p0\\LocalCache\\local-packages\\Python311\\site-packages\\nidaqmx\\_library_interpreter.py:6412\u001b[39m, in \u001b[36mLibraryInterpreter.check_for_error\u001b[39m\u001b[34m(self, error_code, samps_per_chan_written, samps_per_chan_read)\u001b[39m\n\u001b[32m   6410\u001b[39m         \u001b[38;5;28;01mraise\u001b[39;00m DaqWriteError(extended_error_info, error_code, samps_per_chan_written)\n\u001b[32m   6411\u001b[39m     \u001b[38;5;28;01melse\u001b[39;00m:\n\u001b[32m-> \u001b[39m\u001b[32m6412\u001b[39m         \u001b[38;5;28;01mraise\u001b[39;00m DaqError(extended_error_info, error_code)\n\u001b[32m   6414\u001b[39m \u001b[38;5;28;01melif\u001b[39;00m error_code > \u001b[32m0\u001b[39m:\n\u001b[32m   6415\u001b[39m     error_string = \u001b[38;5;28mself\u001b[39m.get_error_string(error_code)\n",
      "\u001b[31mDaqError\u001b[39m: The specified resource is reserved. The operation could not be completed as specified.\nTask Name: _unnamedTask<0>\n\nStatus Code: -50103"
     ]
    }
   ],
   "source": [
    "import nidaqmx\n",
    "from nidaqmx.constants import AcquisitionType\n",
    "import numpy as np\n",
    "import time\n",
    "\n",
    "# === Settings ===\n",
    "channel = \"myDAQ1/ai0\"      # Adjust if needed\n",
    "sample_rate = 1000          # Samples per second\n",
    "batch_size = 100            # Read this many samples at a time\n",
    "duration = 30               # Total time to record in seconds\n",
    "\n",
    "# === Create a new task ===\n",
    "with nidaqmx.Task() as task:\n",
    "    # 1. Add analog input voltage channel\n",
    "    task.ai_channels.add_ai_voltage_chan(channel)\n",
    "\n",
    "    # 2. Configure the sample clock\n",
    "    task.timing.cfg_samp_clk_timing(\n",
    "        rate=sample_rate,\n",
    "        sample_mode=AcquisitionType.CONTINUOUS,\n",
    "        samps_per_chan=batch_size * 2  # Internal buffer size\n",
    "    )\n",
    "\n",
    "    # 3. Start the task\n",
    "    task.start()\n",
    "    print(f\"Reading from {channel} for {duration} seconds...\")\n",
    "\n",
    "    start_time = time.time()\n",
    "    all_data = []  # Optional: collect data\n",
    "\n",
    "    while time.time() - start_time < duration:\n",
    "        # 4. Read a batch of samples\n",
    "        data = task.read(number_of_samples_per_channel=batch_size)\n",
    "        all_data.extend(data)  # Store if needed\n",
    "        print(f\"Read {len(data)} samples: avg = {np.mean(data):.3f} V\")\n",
    "\n",
    "        # 5. Wait to match real time\n",
    "        time.sleep(batch_size / sample_rate)\n",
    "\n",
    "    print(\"Done.\")"
   ]
  },
  {
   "cell_type": "code",
   "execution_count": null,
   "id": "552d3431",
   "metadata": {},
   "outputs": [],
   "source": []
  }
 ],
 "metadata": {
  "kernelspec": {
   "display_name": "Python 3",
   "language": "python",
   "name": "python3"
  },
  "language_info": {
   "codemirror_mode": {
    "name": "ipython",
    "version": 3
   },
   "file_extension": ".py",
   "mimetype": "text/x-python",
   "name": "python",
   "nbconvert_exporter": "python",
   "pygments_lexer": "ipython3",
   "version": "3.11.9"
  }
 },
 "nbformat": 4,
 "nbformat_minor": 5
}
