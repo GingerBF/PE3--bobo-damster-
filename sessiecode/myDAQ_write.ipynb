{
 "cells": [
  {
   "cell_type": "code",
   "execution_count": 20,
   "id": "941e2393",
   "metadata": {},
   "outputs": [
    {
     "name": "stdout",
     "output_type": "stream",
     "text": [
      "Outputting random signal for 30 seconds...\n",
      "1\n"
     ]
    },
    {
     "ename": "DaqWriteError",
     "evalue": "The generation has stopped to prevent the regeneration of old samples. Your application was unable to write samples to the background buffer fast enough to prevent old samples from being regenerated.\n\nTo avoid this error, you can do any of the following:\n1. Increase the size of the background buffer by configuring the buffer.\n2. Increase the number of samples you write each time you invoke a write operation.\n3. Write samples more often.\n4. Reduce the sample rate.\n5. If your data transfer method is interrupts, try using DMA or USB Bulk.\n6. Reduce the number of applications your computer is executing concurrently.\n\nIn addition, if you do not need to write every sample that is generated, you can configure the regeneration mode to allow regeneration, and then use the Position and Offset attributes to write the desired samples.\nTask Name: _unnamedTask<12>\n\nStatus Code: -200290",
     "output_type": "error",
     "traceback": [
      "\u001b[31m---------------------------------------------------------------------------\u001b[39m",
      "\u001b[31mDaqWriteError\u001b[39m                             Traceback (most recent call last)",
      "\u001b[36mCell\u001b[39m\u001b[36m \u001b[39m\u001b[32mIn[20]\u001b[39m\u001b[32m, line 51\u001b[39m\n\u001b[32m     48\u001b[39m     time.sleep(batch_size / sample_rate - \u001b[32m1.1\u001b[39m * (time.time() - genStart))  \u001b[38;5;66;03m# 0.1s in this case\u001b[39;00m\n\u001b[32m     50\u001b[39m     \u001b[38;5;66;03m# 6. Write the batch to the device (do not auto-start; task already started)\u001b[39;00m\n\u001b[32m---> \u001b[39m\u001b[32m51\u001b[39m     \u001b[43mtask\u001b[49m\u001b[43m.\u001b[49m\u001b[43mwrite\u001b[49m\u001b[43m(\u001b[49m\u001b[43mvoltage_batch\u001b[49m\u001b[43m,\u001b[49m\u001b[43m \u001b[49m\u001b[43mauto_start\u001b[49m\u001b[43m=\u001b[49m\u001b[38;5;28;43;01mFalse\u001b[39;49;00m\u001b[43m)\u001b[49m\n\u001b[32m     53\u001b[39m     \u001b[38;5;66;03m# 7. Wait a short time before sending the next batch (match sample rate)\u001b[39;00m\n\u001b[32m     56\u001b[39m \u001b[38;5;28mprint\u001b[39m(\u001b[33m\"\u001b[39m\u001b[33mDone.\u001b[39m\u001b[33m\"\u001b[39m)\n",
      "\u001b[36mFile \u001b[39m\u001b[32m~\\AppData\\Local\\Packages\\PythonSoftwareFoundation.Python.3.11_qbz5n2kfra8p0\\LocalCache\\local-packages\\Python311\\site-packages\\nidaqmx\\task\\_task.py:1221\u001b[39m, in \u001b[36mTask.write\u001b[39m\u001b[34m(self, data, auto_start, timeout)\u001b[39m\n\u001b[32m   1219\u001b[39m \u001b[38;5;28;01mif\u001b[39;00m write_chan_type == ChannelType.ANALOG_OUTPUT:\n\u001b[32m   1220\u001b[39m     data = numpy.asarray(data, dtype=numpy.float64)\n\u001b[32m-> \u001b[39m\u001b[32m1221\u001b[39m     \u001b[38;5;28;01mreturn\u001b[39;00m \u001b[38;5;28;43mself\u001b[39;49m\u001b[43m.\u001b[49m\u001b[43m_interpreter\u001b[49m\u001b[43m.\u001b[49m\u001b[43mwrite_analog_f64\u001b[49m\u001b[43m(\u001b[49m\n\u001b[32m   1222\u001b[39m \u001b[43m        \u001b[49m\u001b[38;5;28;43mself\u001b[39;49m\u001b[43m.\u001b[49m\u001b[43m_handle\u001b[49m\u001b[43m,\u001b[49m\u001b[43m \u001b[49m\u001b[43mnumber_of_samples_per_channel\u001b[49m\u001b[43m,\u001b[49m\u001b[43m \u001b[49m\u001b[43mauto_start\u001b[49m\u001b[43m,\u001b[49m\n\u001b[32m   1223\u001b[39m \u001b[43m        \u001b[49m\u001b[43mtimeout\u001b[49m\u001b[43m,\u001b[49m\u001b[43m \u001b[49m\u001b[43mFillMode\u001b[49m\u001b[43m.\u001b[49m\u001b[43mGROUP_BY_CHANNEL\u001b[49m\u001b[43m.\u001b[49m\u001b[43mvalue\u001b[49m\u001b[43m,\u001b[49m\u001b[43m \u001b[49m\u001b[43mdata\u001b[49m\u001b[43m)\u001b[49m\n\u001b[32m   1225\u001b[39m \u001b[38;5;28;01melif\u001b[39;00m write_chan_type == ChannelType.DIGITAL_OUTPUT:\n\u001b[32m   1226\u001b[39m     \u001b[38;5;28;01mif\u001b[39;00m \u001b[38;5;28mself\u001b[39m.out_stream.do_num_booleans_per_chan == \u001b[32m1\u001b[39m:\n",
      "\u001b[36mFile \u001b[39m\u001b[32m~\\AppData\\Local\\Packages\\PythonSoftwareFoundation.Python.3.11_qbz5n2kfra8p0\\LocalCache\\local-packages\\Python311\\site-packages\\nidaqmx\\_library_interpreter.py:5934\u001b[39m, in \u001b[36mLibraryInterpreter.write_analog_f64\u001b[39m\u001b[34m(self, task, num_samps_per_chan, auto_start, timeout, data_layout, write_array)\u001b[39m\n\u001b[32m   5925\u001b[39m             cfunc.argtypes = [\n\u001b[32m   5926\u001b[39m                 lib_importer.task_handle, ctypes.c_int, c_bool32,\n\u001b[32m   5927\u001b[39m                 ctypes.c_double, ctypes.c_int,\n\u001b[32m   5928\u001b[39m                 wrapped_ndpointer(dtype=numpy.float64, flags=(\u001b[33m'\u001b[39m\u001b[33mC\u001b[39m\u001b[33m'\u001b[39m)),\n\u001b[32m   5929\u001b[39m                 ctypes.POINTER(ctypes.c_int), ctypes.POINTER(c_bool32)]\n\u001b[32m   5931\u001b[39m error_code = cfunc(\n\u001b[32m   5932\u001b[39m     task, num_samps_per_chan, auto_start, timeout, data_layout,\n\u001b[32m   5933\u001b[39m     write_array, ctypes.byref(samps_per_chan_written), \u001b[38;5;28;01mNone\u001b[39;00m)\n\u001b[32m-> \u001b[39m\u001b[32m5934\u001b[39m \u001b[38;5;28;43mself\u001b[39;49m\u001b[43m.\u001b[49m\u001b[43mcheck_for_error\u001b[49m\u001b[43m(\u001b[49m\u001b[43merror_code\u001b[49m\u001b[43m,\u001b[49m\u001b[43m \u001b[49m\u001b[43msamps_per_chan_written\u001b[49m\u001b[43m=\u001b[49m\u001b[43msamps_per_chan_written\u001b[49m\u001b[43m.\u001b[49m\u001b[43mvalue\u001b[49m\u001b[43m)\u001b[49m\n\u001b[32m   5935\u001b[39m \u001b[38;5;28;01mreturn\u001b[39;00m samps_per_chan_written.value\n",
      "\u001b[36mFile \u001b[39m\u001b[32m~\\AppData\\Local\\Packages\\PythonSoftwareFoundation.Python.3.11_qbz5n2kfra8p0\\LocalCache\\local-packages\\Python311\\site-packages\\nidaqmx\\_library_interpreter.py:6410\u001b[39m, in \u001b[36mLibraryInterpreter.check_for_error\u001b[39m\u001b[34m(self, error_code, samps_per_chan_written, samps_per_chan_read)\u001b[39m\n\u001b[32m   6408\u001b[39m     \u001b[38;5;28;01mraise\u001b[39;00m DaqReadError(extended_error_info, error_code, samps_per_chan_read)\n\u001b[32m   6409\u001b[39m \u001b[38;5;28;01melif\u001b[39;00m samps_per_chan_written \u001b[38;5;129;01mis\u001b[39;00m \u001b[38;5;129;01mnot\u001b[39;00m \u001b[38;5;28;01mNone\u001b[39;00m:\n\u001b[32m-> \u001b[39m\u001b[32m6410\u001b[39m     \u001b[38;5;28;01mraise\u001b[39;00m DaqWriteError(extended_error_info, error_code, samps_per_chan_written)\n\u001b[32m   6411\u001b[39m \u001b[38;5;28;01melse\u001b[39;00m:\n\u001b[32m   6412\u001b[39m     \u001b[38;5;28;01mraise\u001b[39;00m DaqError(extended_error_info, error_code)\n",
      "\u001b[31mDaqWriteError\u001b[39m: The generation has stopped to prevent the regeneration of old samples. Your application was unable to write samples to the background buffer fast enough to prevent old samples from being regenerated.\n\nTo avoid this error, you can do any of the following:\n1. Increase the size of the background buffer by configuring the buffer.\n2. Increase the number of samples you write each time you invoke a write operation.\n3. Write samples more often.\n4. Reduce the sample rate.\n5. If your data transfer method is interrupts, try using DMA or USB Bulk.\n6. Reduce the number of applications your computer is executing concurrently.\n\nIn addition, if you do not need to write every sample that is generated, you can configure the regeneration mode to allow regeneration, and then use the Position and Offset attributes to write the desired samples.\nTask Name: _unnamedTask<12>\n\nStatus Code: -200290"
     ]
    }
   ],
   "source": [
    "import nidaqmx\n",
    "from nidaqmx.constants import AcquisitionType, RegenerationMode\n",
    "import numpy as np\n",
    "import time\n",
    "\n",
    "# Settings\n",
    "channel = \"myDAQ1/ao0\"            # Change to your device/channel\n",
    "sample_rate = 1000                # 1000 samples per second\n",
    "batch_size = 100                  # Send 100 samples per batch (0.1s of data)\n",
    "batch_time = batch_size/sample_rate\n",
    "duration = 30                     # Total time to run in seconds\n",
    "\n",
    "t = np.linspace(0, duration, duration * sample_rate)\n",
    "\n",
    "signal = np.sin(t)\n",
    "\n",
    "numBatches = len(signal) / batch_size\n",
    "\n",
    "# Create a new task\n",
    "with nidaqmx.Task() as task:\n",
    "    # 1. Add an analog output voltage channel\n",
    "    task.ao_channels.add_ao_voltage_chan(channel)\n",
    "\n",
    "    # 2. Configure the sample clock for continuous output\n",
    "    task.timing.cfg_samp_clk_timing(\n",
    "        rate=sample_rate,\n",
    "        sample_mode=AcquisitionType.CONTINUOUS,\n",
    "        samps_per_chan=batch_size * 10  # Buffer size (make it bigger than one batch)\n",
    "    )\n",
    "\n",
    "    # 3. Disable regeneration to force us to keep writing new data\n",
    "    task.out_stream.regen_mode = RegenerationMode.DONT_ALLOW_REGENERATION\n",
    "    start_time = time.time()\n",
    "    initial_batch = signal[0:batch_size]\n",
    "    task.write(initial_batch, auto_start=False)\n",
    "    # 4. Start the task\n",
    "    task.start()\n",
    "\n",
    "    print(\"Outputting random signal for 30 seconds...\")\n",
    "    batch_number = 0\n",
    "    while batch_number < numBatches-1:\n",
    "        genStart = time.time()\n",
    "        batch_number += 1\n",
    "        print(batch_number)\n",
    "        # 5. Generate a batch of random voltage values between -2V and 2V\n",
    "        voltage_batch = signal[batch_number * batch_size: (batch_number + 1) * batch_size]\n",
    "\n",
    "        time.sleep(batch_size / sample_rate - 1.1 * (time.time() - genStart))  # 0.1s in this case\n",
    "\n",
    "        # 6. Write the batch to the device (do not auto-start; task already started)\n",
    "        task.write(voltage_batch, auto_start=False)\n",
    "\n",
    "        # 7. Wait a short time before sending the next batch (match sample rate)\n",
    "        \n",
    "\n",
    "    print(\"Done.\")"
   ]
  },
  {
   "cell_type": "code",
   "execution_count": null,
   "id": "552d3431",
   "metadata": {},
   "outputs": [],
   "source": []
  }
 ],
 "metadata": {
  "kernelspec": {
   "display_name": "Python 3",
   "language": "python",
   "name": "python3"
  },
  "language_info": {
   "codemirror_mode": {
    "name": "ipython",
    "version": 3
   },
   "file_extension": ".py",
   "mimetype": "text/x-python",
   "name": "python",
   "nbconvert_exporter": "python",
   "pygments_lexer": "ipython3",
   "version": "3.11.9"
  }
 },
 "nbformat": 4,
 "nbformat_minor": 5
}
