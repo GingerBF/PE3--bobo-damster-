{
 "cells": [
  {
   "cell_type": "code",
   "execution_count": 1,
   "id": "78e98133",
   "metadata": {},
   "outputs": [],
   "source": [
    "from libraries import MyDAQ\n",
    "from libraries import functions as H\n",
    "import matplotlib.pyplot as plt\n",
    "import numpy as np\n",
    "import nidaqmx as dx\n",
    "from scipy.signal import sawtooth, square\n",
    "import libraries\n",
    "from libraries import PMConverter\n",
    "from scipy.fft import rfft, rfftfreq, irfft\n",
    "import time\n",
    "all_list = [H.RC_C]\n",
    "\n",
    "daq = MyDAQ()\n",
    "daq.name = 'MyDAQ1'\n",
    "daq.samplerate = 200000\n",
    "read_channel = 'AI0'\t\n",
    "write_channel = 'AO0'"
   ]
  },
  {
   "cell_type": "code",
   "execution_count": 2,
   "id": "7db24895",
   "metadata": {},
   "outputs": [],
   "source": [
    "PM = PMConverter()\n",
    "daq = MyDAQ()"
   ]
  },
  {
   "cell_type": "code",
   "execution_count": null,
   "id": "d667110b",
   "metadata": {},
   "outputs": [
    {
     "name": "stdout",
     "output_type": "stream",
     "text": [
      "[ 90 180  90   0  90 180  90  90   0 180   0   0  90   0   0 180  90 180\n",
      " 180  90  90 180 180 180  90 180   0 180  90 180  90  90  90 180 270   0]\n"
     ]
    },
    {
     "data": {
      "image/png": "[encoded data removed]",
      "text/plain": [
       "<Figure size 640x480 with 1 Axes>"
      ]
     },
     "metadata": {},
     "output_type": "display_data"
    },
    {
     "name": "stdout",
     "output_type": "stream",
     "text": [
      "phases:  [  90. -180.   90.   -0.   90.  180.   90.   90.    0. -180.    0.    0.\n",
      "   90.   -0.    0. -180.   90. -180. -180.   90.   90. -180. -180. -180.\n",
      "   90. -180.    0.  180.   90.  180.   90.   90.   90.  180.  -90.   -0.]\n",
      "Recovered Binary: 01100100 01100101 00100000 01000010 01101001 01101010 01100010 01100101 01101100\n",
      "Recovered Text: de Bijbel\n"
     ]
    }
   ],
   "source": [
    "daq.name = 'MyDAQ1'\n",
    "daq.samplerate = int(1000)\n",
    "read_channel = 'AI0'\t\n",
    "write_channel = 'AO0'\n",
    "carrierFrequency = 10\n",
    "sps = 10000\n",
    "amplitude = 2\n",
    "#transfer function. UItzoeken hoe normaal werkt (telefoon), \n",
    "text = \"de Bijbel\"\n",
    "binary = PM.text_to_binary(text)\n",
    "fm_signal = PM.binary_to_pm(binary, fmType=2)\n",
    "print(fm_signal)\n",
    "\n",
    "voltages = PM.pm_to_voltage_array(fm_signal, sps, f=carrierFrequency, fs=daq.samplerate, A=amplitude)\n",
    "\n",
    "#plt.plot(np.arange(len(voltages)), voltages)\n",
    "#plt.show()\n",
    "\n",
    "_, _, phases = PM.retrieve_phases(voltages, daq.samplerate, sps, carrierFrequency)\n",
    "print('phases: ', np.round(np.array(phases) / np.pi * 180))\n",
    "\n",
    "binary_back = PM.pm_to_binary(np.rad2deg(phases), fmType=2)\n",
    "print(\"Recovered Binary:\", binary_back)\n",
    "\n",
    "text_back = PM.binary_to_text(binary_back)\n",
    "print(\"Recovered Text:\", text_back)"
   ]
  },
  {
   "cell_type": "code",
   "execution_count": 4,
   "id": "3de054e7",
   "metadata": {},
   "outputs": [
    {
     "data": {
      "image/png": "[encoded data removed]",
      "text/plain": [
       "<Figure size 640x480 with 1 Axes>"
      ]
     },
     "metadata": {},
     "output_type": "display_data"
    }
   ],
   "source": [
    "daq.name = 'MyDAQ1'\n",
    "daq.samplerate = int(2e5)\n",
    "read_channel = 'AI0'\t\n",
    "write_channel = 'AO0'\n",
    "carrierFrequency = 2e4\n",
    "sps = 20000\n",
    "amplitude = 2\n",
    "\n",
    "text = \"Hi!\"\n",
    "binary = PM.text_to_binary(text)\n",
    "fm_signal = PM.binary_to_pm(binary, fmType=1)\n",
    "\n",
    "voltages = PM.pm_to_voltage_array(fm_signal, sps, f=carrierFrequency, fs=daq.samplerate, A=amplitude)\n"
   ]
  },
  {
   "cell_type": "code",
   "execution_count": null,
   "id": "d8fe35ca",
   "metadata": {},
   "outputs": [
    {
     "name": "stdout",
     "output_type": "stream",
     "text": [
      "480000\n",
      "24 24\n",
      "Recovered Binary: 11111111 11111111 11111111\n",
      "Recovered Text: ÿÿÿ\n"
     ]
    }
   ],
   "source": [
    "print(len(voltages))\n",
    "#data = daq.readwrite(voltages, read_channel, write_channel)\n",
    "data = voltages\n",
    "window = np.hanning(len(data))\n",
    "windowed_data = data * window\n",
    "fft = np.fft.rfft(windowed_data)\n",
    "freqs = np.fft.rfftfreq(len(data), 1 / daq.samplerate)\n",
    "amplitude = np.abs(fft)\n",
    "\n",
    "# Plot\n",
    "#plt.figure(figsize=(10, 6))\n",
    "#plt.scatter(freqs, amplitude, s=10, color='darkblue', alpha=0.7, label='FFT Amplitude')\n",
    "#plt.axvline(carrierFrequency)\n",
    "#lt.xscale('log')\n",
    "#plt.yscale('log')  # Optional: helps when amplitudes span multiple orders\n",
    "#plt.xlabel('Frequency (Hz)')\n",
    "#plt.ylabel('Amplitude')\n",
    "#plt.title('Frequency Spectrum (FFT)')\n",
    "#plt.grid(True, which='both', linestyle='--', linewidth=0.5)\n",
    "##plt.legend()\n",
    "#plt.tight_layout()\n",
    "#plt.show()\n",
    "\n",
    "_, amplitudes, phases = PM.retrieve_phases(data, daq.samplerate, sps, carrierFrequency)\n",
    "\n",
    "print(len(phases), len(fm_signal))\n",
    "\n",
    "binary_back = PM.pm_to_binary(phases, fmType=1)\n",
    "print(\"Recovered Binary:\", binary_back)\n",
    "\n",
    "text_back = PM.binary_to_text(binary_back)\n",
    "print(\"Recovered Text:\", text_back)"
   ]
  },
  {
   "cell_type": "code",
   "execution_count": null,
   "id": "71c51a83",
   "metadata": {},
   "outputs": [],
   "source": [
    "plt.scatter(np.linspace(0, len(phases), len(phases)), phases)\n",
    "plt.show()"
   ]
  },
  {
   "cell_type": "code",
   "execution_count": null,
   "id": "ae9562dc",
   "metadata": {},
   "outputs": [
    {
     "ename": "ValueError",
     "evalue": "The truth value of an array with more than one element is ambiguous. Use a.any() or a.all()",
     "output_type": "error",
     "traceback": [
      "\u001b[31m---------------------------------------------------------------------------\u001b[39m",
      "\u001b[31mValueError\u001b[39m                                Traceback (most recent call last)",
      "\u001b[36mCell\u001b[39m\u001b[36m \u001b[39m\u001b[32mIn[3]\u001b[39m\u001b[32m, line 13\u001b[39m\n\u001b[32m     10\u001b[39m binary = PM.text_to_binary(text)\n\u001b[32m     11\u001b[39m fm_signal = PM.binary_to_pm(binary, fmType=\u001b[32m1\u001b[39m)\n\u001b[32m---> \u001b[39m\u001b[32m13\u001b[39m voltages = \u001b[43mPM\u001b[49m\u001b[43m.\u001b[49m\u001b[43mpm_to_voltage_array\u001b[49m\u001b[43m(\u001b[49m\u001b[43mfm_signal\u001b[49m\u001b[43m,\u001b[49m\u001b[43m \u001b[49m\u001b[43msps\u001b[49m\u001b[43m,\u001b[49m\u001b[43m \u001b[49m\u001b[43mf\u001b[49m\u001b[43m=\u001b[49m\u001b[43mcarrierFrequency\u001b[49m\u001b[43m,\u001b[49m\u001b[43m \u001b[49m\u001b[43mfs\u001b[49m\u001b[43m=\u001b[49m\u001b[43mdaq\u001b[49m\u001b[43m.\u001b[49m\u001b[43msamplerate\u001b[49m\u001b[43m,\u001b[49m\u001b[43m \u001b[49m\u001b[43mA\u001b[49m\u001b[43m=\u001b[49m\u001b[43mamplitude\u001b[49m\u001b[43m)\u001b[49m\n\u001b[32m     15\u001b[39m plt.plot(np.arange(\u001b[38;5;28mlen\u001b[39m(voltages)), voltages)\n\u001b[32m     16\u001b[39m plt.show()\n",
      "\u001b[36mFile \u001b[39m\u001b[32mc:\\Users\\boazf\\OneDrive\\Documents\\GitHub\\PE3--bobo-damster-\\sessiecode\\libraries\\pmconverter.py:95\u001b[39m, in \u001b[36mPMConverter.pm_to_voltage_array\u001b[39m\u001b[34m(self, pmSignal, sps, f, fs, A)\u001b[39m\n\u001b[32m     89\u001b[39m duration = pmSignal * sps * sampleTime\n\u001b[32m     91\u001b[39m \u001b[38;5;66;03m#t = np.linspace(0, 2, 2 * fs)\u001b[39;00m\n\u001b[32m     92\u001b[39m \u001b[38;5;66;03m#tref = np.linspace(2, 2 + 10 * sps * sampleTime, 10 * sps)\u001b[39;00m\n\u001b[32m     93\u001b[39m \u001b[38;5;66;03m#tsig = np.linspace(2 + refSigDuration, 2 + refSigDuration + len(pmSamples) * sps * sampleTime, len(pmSamples))\u001b[39;00m\n\u001b[32m---> \u001b[39m\u001b[32m95\u001b[39m tArray = \u001b[43mnp\u001b[49m\u001b[43m.\u001b[49m\u001b[43marange\u001b[49m\u001b[43m(\u001b[49m\u001b[43mpmSamples\u001b[49m\u001b[43m)\u001b[49m / duration\n\u001b[32m     97\u001b[39m voltageArray = []\n\u001b[32m     98\u001b[39m \u001b[38;5;66;03m#for t in t:\u001b[39;00m\n\u001b[32m     99\u001b[39m \u001b[38;5;66;03m#    voltageArray.append(0.0)\u001b[39;00m\n\u001b[32m    100\u001b[39m \u001b[38;5;66;03m#for t in tref:\u001b[39;00m\n\u001b[32m    101\u001b[39m \u001b[38;5;66;03m#    voltageArray.append(A * np.sin(t * f * 2 * np.pi))\u001b[39;00m\n",
      "\u001b[31mValueError\u001b[39m: The truth value of an array with more than one element is ambiguous. Use a.any() or a.all()"
     ]
    }
   ],
   "source": []
  },
  {
   "cell_type": "code",
   "execution_count": null,
   "id": "192dfcdd",
   "metadata": {},
   "outputs": [],
   "source": [
    "tArray = np.linspace(0, len(voltages) / daq.samplerate, len(voltages), endpoint=False)\n",
    "print(voltages.shape)\n",
    "data = daq.readwrite(voltages, read_channel, write_channel)\n",
    "tArrayd = np.linspace(0, len(data) / daq.samplerate, len(data), endpoint=False)\n",
    "\n",
    "print(len(tArrayd), len(data), len(voltages))\n",
    "\n",
    "plt.scatter(tArray, voltages, s=1)  # s=1 to avoid huge dots\n",
    "plt.xlabel('Time (s)')\n",
    "plt.ylabel('Voltage (V)')\n",
    "plt.title('Time-Domain Signal')\n",
    "plt.grid(True)\n",
    "plt.tight_layout()\n",
    "plt.show()\n",
    "plt.scatter(tArrayd, data)\n",
    "plt.xlabel('Time (s)')\n",
    "plt.ylabel('Voltage (V)')\n",
    "plt.title('Time-Domain Signal')\n",
    "plt.grid(True)\n",
    "plt.tight_layout()\n",
    "plt.show()\n",
    "\n"
   ]
  },
  {
   "cell_type": "code",
   "execution_count": null,
   "id": "b4a084f9",
   "metadata": {},
   "outputs": [],
   "source": [
    "duration = 5\n",
    "amplitude = 2\n",
    "freq = 20000\n",
    "phase = 0\n",
    "_, signal = daq.generateWaveform('sine', daq.samplerate, freq, amplitude, phase, duration)\n",
    "signal = []\n",
    "for i in range(0, 6):\n",
    "    for j in range(0, 20000):\n",
    "        signal.append((i - 3))\n",
    "data = daq.readwrite(np.array(signal), read_channel, write_channel)\n",
    "plt.scatter(np.arange(len(signal)), signal, label='sig')\n",
    "plt.scatter(np.arange(len(data)), data, label='data')\n",
    "plt.legend()\n",
    "plt.show()\n",
    "\n",
    "print(len(signal) - len(data))\n",
    "countt = 0\n",
    "for i in range(0, 6):\n",
    "    count = np.sum(np.abs(data - (i-3)) <= 0.1)\n",
    "    countt += count\n",
    "    print(f\"{count} data points are within 0.1 V of 6 V.\")\n",
    "print(countt)\n",
    "print(len(data))"
   ]
  }
 ],
 "metadata": {
  "kernelspec": {
   "display_name": "Python 3",
   "language": "python",
   "name": "python3"
  },
  "language_info": {
   "codemirror_mode": {
    "name": "ipython",
    "version": 3
   },
   "file_extension": ".py",
   "mimetype": "text/x-python",
   "name": "python",
   "nbconvert_exporter": "python",
   "pygments_lexer": "ipython3",
   "version": "3.11.9"
  }
 },
 "nbformat": 4,
 "nbformat_minor": 5
}
