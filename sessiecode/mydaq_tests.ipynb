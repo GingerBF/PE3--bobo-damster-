{
 "cells": [
  {
   "cell_type": "code",
   "execution_count": 1,
   "id": "78e98133",
   "metadata": {},
   "outputs": [],
   "source": [
    "from libraries.mydaq import MyDAQ\n",
    "from libraries import functions as H\n",
    "import matplotlib.pyplot as plt\n",
    "import numpy as np\n",
    "import nidaqmx as dx\n",
    "from scipy.signal import sawtooth, square\n",
    "import libraries\n",
    "from libraries import PMConverter\n",
    "from scipy.fft import rfft, rfftfreq, irfft\n",
    "import time\n",
    "all_list = [H.RC_C, H.RCRC_CC, H.RLC_sC, H.RLC_sRC, H.RLC_pC, H.RLC_pRL, H.RL_R, H.CL_C, H.RC_R, H.RCRC_RR, H.RLC_sL, H.RLC_sRL, H.RLC_pL, H.RLC_pRC, H.RL_L, H.CL_L, H.RLC_sR, H.RLC_sLC, H.RLC_pR, H.RLC_pLC]\n",
    "\n",
    "daq = MyDAQ()\n",
    "daq.name = 'MyDAQ1'\n",
    "daq.samplerate = 200000\n",
    "read_channel = 'AI0'\t\n",
    "write_channel = 'AO0'"
   ]
  },
  {
   "cell_type": "code",
   "execution_count": 15,
   "id": "d94b48de",
   "metadata": {},
   "outputs": [],
   "source": [
    "duration = 5\n",
    "amplitude = 8\n",
    "freq = 20000\n",
    "phase = 0\n",
    "_, signal = daq.generateWaveform('sine', daq.samplerate, freq, amplitude, phase, duration)\n"
   ]
  },
  {
   "cell_type": "code",
   "execution_count": 16,
   "id": "2767bd0a",
   "metadata": {},
   "outputs": [],
   "source": [
    "daq.write(signal, 'AO0')"
   ]
  },
  {
   "cell_type": "code",
   "execution_count": 18,
   "id": "3de054e7",
   "metadata": {},
   "outputs": [
    {
     "name": "stdout",
     "output_type": "stream",
     "text": [
      "Binary: 01001000 01100101 01101100 01101100 01101111 00100001\n",
      "FM Signal (Type 1): [  0 180   0   0 180   0   0   0   0 180 180   0   0 180   0 180   0 180\n",
      " 180   0 180 180   0   0   0 180 180   0 180 180   0   0   0 180 180   0\n",
      " 180 180 180 180   0   0 180   0   0   0   0 180]\n",
      "960000\n",
      "writeTask.start took 0.023476 seconds.\n"
     ]
    },
    {
     "data": {
      "image/png": "[encoded data removed]",
      "text/plain": [
       "<Figure size 640x480 with 1 Axes>"
      ]
     },
     "metadata": {},
     "output_type": "display_data"
    },
    {
     "name": "stdout",
     "output_type": "stream",
     "text": [
      "Recovered Binary: 01001000 01100101 01101100 01101100 01101111 00100001\n",
      "Recovered Text: Hello!\n"
     ]
    }
   ],
   "source": [
    "PM = PMConverter()\n",
    "text = \"Hello!\"\n",
    "\n",
    "binary = PM.text_to_binary(text)\n",
    "print(\"Binary:\", binary)\n",
    "\n",
    "fm_signal = PM.binary_to_pm(binary, fmType=1)\n",
    "print(\"FM Signal (Type 1):\", fm_signal)\n",
    "\n",
    "voltages = PM.pm_to_voltage_array(fm_signal, 20000, freq, daq.samplerate, amplitude)\n",
    "#voltages = signal\n",
    "print(len(voltages))\n",
    "data = daq.readwrite(voltages, read_channel, write_channel)\n",
    "\n",
    "fft = np.fft.rfft(data)\n",
    "freqs = np.fft.rfftfreq(len(data), 1/daq.samplerate)\n",
    "plt.scatter(freqs, fft)\n",
    "plt.xscale('log')\n",
    "plt.show()\n",
    "\n",
    "binary_back = PM.pm_to_binary(fm_signal, fmType=1)\n",
    "print(\"Recovered Binary:\", binary_back)\n",
    "\n",
    "text_back = PM.binary_to_text(binary_back)\n",
    "print(\"Recovered Text:\", text_back)\n"
   ]
  },
  {
   "cell_type": "code",
   "execution_count": null,
   "id": "acc892c8",
   "metadata": {},
   "outputs": [],
   "source": []
  },
  {
   "cell_type": "code",
   "execution_count": null,
   "id": "71c51a83",
   "metadata": {},
   "outputs": [],
   "source": []
  },
  {
   "cell_type": "code",
   "execution_count": null,
   "id": "ae9562dc",
   "metadata": {},
   "outputs": [],
   "source": []
  },
  {
   "cell_type": "code",
   "execution_count": null,
   "id": "192dfcdd",
   "metadata": {},
   "outputs": [],
   "source": []
  }
 ],
 "metadata": {
  "kernelspec": {
   "display_name": "Python 3",
   "language": "python",
   "name": "python3"
  },
  "language_info": {
   "codemirror_mode": {
    "name": "ipython",
    "version": 3
   },
   "file_extension": ".py",
   "mimetype": "text/x-python",
   "name": "python",
   "nbconvert_exporter": "python",
   "pygments_lexer": "ipython3",
   "version": "3.11.9"
  }
 },
 "nbformat": 4,
 "nbformat_minor": 5
}
