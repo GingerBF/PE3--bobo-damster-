{
 "cells": [
  {
   "cell_type": "code",
   "execution_count": 14,
   "id": "78e98133",
   "metadata": {},
   "outputs": [],
   "source": [
    "from libraries import MyDAQ\n",
    "from libraries import functions as H\n",
    "import matplotlib.pyplot as plt\n",
    "import numpy as np\n",
    "import nidaqmx as dx\n",
    "from scipy.signal import sawtooth, square\n",
    "import libraries\n",
    "from libraries import PMConverter\n",
    "from scipy.fft import rfft, rfftfreq, irfft\n",
    "import time\n",
    "import random\n",
    "import string\n",
    "all_list = [H.RC_C]\n",
    "\n",
    "daq = MyDAQ()\n",
    "daq.name = 'MyDAQ1'\n",
    "daq.samplerate = 200000\n",
    "read_channel = 'AI0'\t\n",
    "write_channel = 'AO0'"
   ]
  },
  {
   "cell_type": "code",
   "execution_count": 15,
   "id": "7db24895",
   "metadata": {},
   "outputs": [],
   "source": [
    "PM = PMConverter()\n",
    "daq = MyDAQ()"
   ]
  },
  {
   "cell_type": "code",
   "execution_count": 24,
   "id": "26a323ff",
   "metadata": {},
   "outputs": [
    {
     "name": "stdout",
     "output_type": "stream",
     "text": [
      "sps:  200\n",
      "aaaaaaaaaa\n",
      "samples:  17800\n",
      "duration:  0.089\n",
      "[  0 180   0 180   0 180   0 180   0 180   0 180   0 180   0 180   0 180\n",
      "   0 180   0 180   0 180   0 180   0 180   0 180   0 180   0 180   0 180\n",
      "   0 180   0 180   0 180   0 180   0 180   0 180   0 180   0 180   0 180\n",
      "   0 180   0 180   0 180   0 180   0 180]\n"
     ]
    }
   ],
   "source": [
    "daq.name = 'MyDAQ1'\n",
    "daq.samplerate = int(200000)\n",
    "read_channel = 'AI0'\t\n",
    "write_channel = 'AO1'\n",
    "capacity = 1000\n",
    "carrierFrequency = 20000\n",
    "sps = int(daq.samplerate/capacity)\n",
    "print('sps: ', sps)\n",
    "amplitude = 2\n",
    "#transfer function. UItzoeken hoe normaal werkt (telefoon), \n",
    "length = 0  # desired string length\n",
    "random_string = ''.join(random.choices(string.ascii_letters, k=length))\n",
    "text = \"aaaaaaaaaa\" #+ random_string\n",
    "print(text)\n",
    "binary = PM.text_to_binary(text)\n",
    "print('samples: ', len(binary) * sps)\n",
    "print('duration: ', len(binary) * sps / daq.samplerate)\n",
    "fm_signal = PM.binary_to_pm(binary, fmType=1)\n",
    "#print(fm_signal)\n",
    "\n",
    "configuringSignal = PM.configuring_signal(daq.samplerate, sps, 32)\n",
    "print(configuringSignal)\n",
    "\n",
    "voltages = PM.pm_to_voltage_array(fm_signal, sps, f=carrierFrequency, fs=daq.samplerate, A=amplitude, pmConfigurationSignal=configuringSignal)\n",
    "\n",
    "zeroes = np.zeros(1)\n",
    "voltages = np.concatenate([voltages, zeroes])"
   ]
  },
  {
   "cell_type": "code",
   "execution_count": 26,
   "id": "c2eff71e",
   "metadata": {},
   "outputs": [
    {
     "name": "stdout",
     "output_type": "stream",
     "text": [
      "start in 3 sec\n",
      "gooooo\n"
     ]
    }
   ],
   "source": [
    "print('start in 3 sec')\n",
    "time.sleep(3)\n",
    "print('gooooo')\n",
    "daq.write(voltages, write_channel)"
   ]
  },
  {
   "cell_type": "code",
   "execution_count": 11,
   "id": "d667110b",
   "metadata": {},
   "outputs": [],
   "source": [
    "daq.name = 'MyDAQ1'\n",
    "daq.samplerate = int(1000)\n",
    "read_channel = 'AI0'\t\n",
    "write_channel = 'AO0'\n",
    "carrierFrequency = 20000\n",
    "sps = 100\n",
    "amplitude = 2\n",
    "#transfer function. UItzoeken hoe normaal werkt (telefoon), \n",
    "text = \"aaaaaaaaaaAppelflappenkkkkkkkkkkkkkkkjhgkhgcvblkjgftuyseryiuygfcgfcgvhm,nxztretrertlukyeuyytkuygvcjghyukhgvcty6775i86oilki7r56tiyukljgdfguklhftrywuyturtgfjdfghuiy78i67yu\"\n",
    "binary = PM.text_to_binary(text)\n",
    "#print(binary)\n",
    "fm_signal = PM.binary_to_pm(binary, fmType=1)\n",
    "#print(fm_signal)\n",
    "configuringSignal = PM.configuring_signal(daq.samplerate, sps, 10)\n",
    "#print(configuringSignal)\n",
    "voltages = PM.pm_to_voltage_array(fm_signal, sps, f=carrierFrequency, fs=daq.samplerate, A=amplitude, pmConfigurationSignal=configuringSignal)\n"
   ]
  },
  {
   "cell_type": "code",
   "execution_count": 8,
   "id": "d73cc1bf",
   "metadata": {},
   "outputs": [],
   "source": [
    "daq.write(voltages, write_channel)"
   ]
  },
  {
   "cell_type": "code",
   "execution_count": null,
   "id": "ce63f76d",
   "metadata": {},
   "outputs": [],
   "source": [
    "PM.configure_signal(voltages, daq.samplerate, carrierFrequency, sps, 10)\n",
    "\n",
    "\n",
    "_, _, phases = PM.retrieve_phases(voltages, daq.samplerate, sps, carrierFrequency)\n",
    "print('phases: ', np.round(np.array(phases) / np.pi * 180))\n",
    "\n",
    "binary_back = PM.pm_to_binary(np.rad2deg(phases), fmType=1)\n",
    "print(\"Recovered Binary:\", binary_back)\n",
    "\n",
    "text_back = PM.binary_to_text(binary_back)\n",
    "print(\"Recovered Text:\", text_back)"
   ]
  },
  {
   "cell_type": "code",
   "execution_count": null,
   "id": "3de054e7",
   "metadata": {},
   "outputs": [],
   "source": [
    "daq.name = 'MyDAQ1'\n",
    "daq.samplerate = int(2e5)\n",
    "read_channel = 'AI0'\t\n",
    "write_channel = 'AO0'\n",
    "carrierFrequency = 2e4\n",
    "sps = 20000\n",
    "amplitude = 2\n",
    "\n",
    "text = \"Hi!\"\n",
    "binary = PM.text_to_binary(text)\n",
    "fm_signal = PM.binary_to_pm(binary, fmType=1)\n",
    "\n",
    "voltages = PM.pm_to_voltage_array(fm_signal, sps, f=carrierFrequency, fs=daq.samplerate, A=amplitude)\n"
   ]
  },
  {
   "cell_type": "code",
   "execution_count": null,
   "id": "d8fe35ca",
   "metadata": {},
   "outputs": [],
   "source": [
    "print(len(voltages))\n",
    "#data = daq.readwrite(voltages, read_channel, write_channel)\n",
    "data = voltages\n",
    "window = np.hanning(len(data))\n",
    "windowed_data = data * window\n",
    "fft = np.fft.rfft(windowed_data)\n",
    "freqs = np.fft.rfftfreq(len(data), 1 / daq.samplerate)\n",
    "amplitude = np.abs(fft)\n",
    "\n",
    "# Plot\n",
    "#plt.figure(figsize=(10, 6))\n",
    "#plt.scatter(freqs, amplitude, s=10, color='darkblue', alpha=0.7, label='FFT Amplitude')\n",
    "#plt.axvline(carrierFrequency)\n",
    "#lt.xscale('log')\n",
    "#plt.yscale('log')  # Optional: helps when amplitudes span multiple orders\n",
    "#plt.xlabel('Frequency (Hz)')\n",
    "#plt.ylabel('Amplitude')\n",
    "#plt.title('Frequency Spectrum (FFT)')\n",
    "#plt.grid(True, which='both', linestyle='--', linewidth=0.5)\n",
    "##plt.legend()\n",
    "#plt.tight_layout()\n",
    "#plt.show()\n",
    "\n",
    "_, amplitudes, phases = PM.retrieve_phases(data, daq.samplerate, sps, carrierFrequency)\n",
    "\n",
    "print(len(phases), len(fm_signal))\n",
    "\n",
    "binary_back = PM.pm_to_binary(phases, fmType=1)\n",
    "print(\"Recovered Binary:\", binary_back)\n",
    "\n",
    "text_back = PM.binary_to_text(binary_back)\n",
    "print(\"Recovered Text:\", text_back)"
   ]
  },
  {
   "cell_type": "code",
   "execution_count": null,
   "id": "71c51a83",
   "metadata": {},
   "outputs": [],
   "source": [
    "plt.scatter(np.linspace(0, len(phases), len(phases)), phases)\n",
    "plt.show()"
   ]
  },
  {
   "cell_type": "code",
   "execution_count": null,
   "id": "ae9562dc",
   "metadata": {},
   "outputs": [],
   "source": []
  },
  {
   "cell_type": "code",
   "execution_count": null,
   "id": "192dfcdd",
   "metadata": {},
   "outputs": [],
   "source": [
    "tArray = np.linspace(0, len(voltages) / daq.samplerate, len(voltages), endpoint=False)\n",
    "print(voltages.shape)\n",
    "data = daq.readwrite(voltages, read_channel, write_channel)\n",
    "tArrayd = np.linspace(0, len(data) / daq.samplerate, len(data), endpoint=False)\n",
    "\n",
    "print(len(tArrayd), len(data), len(voltages))\n",
    "\n",
    "plt.scatter(tArray, voltages, s=1)  # s=1 to avoid huge dots\n",
    "plt.xlabel('Time (s)')\n",
    "plt.ylabel('Voltage (V)')\n",
    "plt.title('Time-Domain Signal')\n",
    "plt.grid(True)\n",
    "plt.tight_layout()\n",
    "plt.show()\n",
    "plt.scatter(tArrayd, data)\n",
    "plt.xlabel('Time (s)')\n",
    "plt.ylabel('Voltage (V)')\n",
    "plt.title('Time-Domain Signal')\n",
    "plt.grid(True)\n",
    "plt.tight_layout()\n",
    "plt.show()\n",
    "\n"
   ]
  },
  {
   "cell_type": "code",
   "execution_count": null,
   "id": "b4a084f9",
   "metadata": {},
   "outputs": [],
   "source": [
    "duration = 5\n",
    "amplitude = 2\n",
    "freq = 20000\n",
    "phase = 0\n",
    "_, signal = daq.generateWaveform('sine', daq.samplerate, freq, amplitude, phase, duration)\n",
    "signal = []\n",
    "for i in range(0, 6):\n",
    "    for j in range(0, 20000):\n",
    "        signal.append((i - 3))\n",
    "data = daq.readwrite(np.array(signal), read_channel, write_channel)\n",
    "plt.scatter(np.arange(len(signal)), signal, label='sig')\n",
    "plt.scatter(np.arange(len(data)), data, label='data')\n",
    "plt.legend()\n",
    "plt.show()\n",
    "\n",
    "print(len(signal) - len(data))\n",
    "countt = 0\n",
    "for i in range(0, 6):\n",
    "    count = np.sum(np.abs(data - (i-3)) <= 0.1)\n",
    "    countt += count\n",
    "    print(f\"{count} data points are within 0.1 V of 6 V.\")\n",
    "print(countt)\n",
    "print(len(data))"
   ]
  }
 ],
 "metadata": {
  "kernelspec": {
   "display_name": "Python 3",
   "language": "python",
   "name": "python3"
  },
  "language_info": {
   "codemirror_mode": {
    "name": "ipython",
    "version": 3
   },
   "file_extension": ".py",
   "mimetype": "text/x-python",
   "name": "python",
   "nbconvert_exporter": "python",
   "pygments_lexer": "ipython3",
   "version": "3.11.9"
  }
 },
 "nbformat": 4,
 "nbformat_minor": 5
}
