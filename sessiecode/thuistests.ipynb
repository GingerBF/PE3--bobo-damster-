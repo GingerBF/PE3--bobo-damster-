{
 "cells": [
  {
   "cell_type": "code",
   "execution_count": 1,
   "id": "e51b987f",
   "metadata": {},
   "outputs": [
    {
     "name": "stdout",
     "output_type": "stream",
     "text": [
      "Task object created.\n",
      "Has 'timing': True\n",
      "Has 'cfg_samp_clk_timing': True\n",
      "cfg_samp_clk_timing method: <bound method Timing.cfg_samp_clk_timing of <nidaqmx.task._timing.Timing object at 0x00000272DB6BFE10>>\n"
     ]
    }
   ],
   "source": [
    "import nidaqmx\n",
    "\n",
    "# Create a dummy task\n",
    "with nidaqmx.Task() as task:\n",
    "    print(\"Task object created.\")\n",
    "    \n",
    "    # Check if 'timing' attribute exists\n",
    "    print(\"Has 'timing':\", hasattr(task, 'timing'))\n",
    "\n",
    "    # Check for 'cfg_samp_clk_timing' method inside the timing object\n",
    "    print(\"Has 'cfg_samp_clk_timing':\", hasattr(task.timing, 'cfg_samp_clk_timing'))\n",
    "\n",
    "    # Optionally print the method object itself\n",
    "    print(\"cfg_samp_clk_timing method:\", task.timing.cfg_samp_clk_timing)"
   ]
  },
  {
   "cell_type": "code",
   "execution_count": 2,
   "id": "2c31bf8c",
   "metadata": {},
   "outputs": [
    {
     "ename": "DaqError",
     "evalue": "Device identifier is invalid.\nDevice Specified: Dev1\n\nTask Name: _unnamedTask<1>\n\nStatus Code: -200220",
     "output_type": "error",
     "traceback": [
      "\u001b[31m---------------------------------------------------------------------------\u001b[39m",
      "\u001b[31mDaqError\u001b[39m                                  Traceback (most recent call last)",
      "\u001b[36mCell\u001b[39m\u001b[36m \u001b[39m\u001b[32mIn[2]\u001b[39m\u001b[32m, line 15\u001b[39m\n\u001b[32m     12\u001b[39m \u001b[38;5;66;03m# Create a new task\u001b[39;00m\n\u001b[32m     13\u001b[39m \u001b[38;5;28;01mwith\u001b[39;00m nidaqmx.Task() \u001b[38;5;28;01mas\u001b[39;00m task:\n\u001b[32m     14\u001b[39m     \u001b[38;5;66;03m# 1. Add an analog output voltage channel\u001b[39;00m\n\u001b[32m---> \u001b[39m\u001b[32m15\u001b[39m     \u001b[43mtask\u001b[49m\u001b[43m.\u001b[49m\u001b[43mao_channels\u001b[49m\u001b[43m.\u001b[49m\u001b[43madd_ao_voltage_chan\u001b[49m\u001b[43m(\u001b[49m\u001b[43mchannel\u001b[49m\u001b[43m)\u001b[49m\n\u001b[32m     17\u001b[39m     \u001b[38;5;66;03m# 2. Configure the sample clock for continuous output\u001b[39;00m\n\u001b[32m     18\u001b[39m     task.timing.cfg_samp_clk_timing(\n\u001b[32m     19\u001b[39m         rate=sample_rate,\n\u001b[32m     20\u001b[39m         sample_mode=AcquisitionType.CONTINUOUS,\n\u001b[32m     21\u001b[39m         samps_per_chan=batch_size * \u001b[32m10\u001b[39m  \u001b[38;5;66;03m# Buffer size (make it bigger than one batch)\u001b[39;00m\n\u001b[32m     22\u001b[39m     )\n",
      "\u001b[36mFile \u001b[39m\u001b[32m~\\AppData\\Local\\Packages\\PythonSoftwareFoundation.Python.3.11_qbz5n2kfra8p0\\LocalCache\\local-packages\\Python311\\site-packages\\nidaqmx\\task\\collections\\_ao_channel_collection.py:158\u001b[39m, in \u001b[36mAOChannelCollection.add_ao_voltage_chan\u001b[39m\u001b[34m(self, physical_channel, name_to_assign_to_channel, min_val, max_val, units, custom_scale_name)\u001b[39m\n\u001b[32m    124\u001b[39m \u001b[38;5;28;01mdef\u001b[39;00m\u001b[38;5;250m \u001b[39m\u001b[34madd_ao_voltage_chan\u001b[39m(\n\u001b[32m    125\u001b[39m         \u001b[38;5;28mself\u001b[39m, physical_channel, name_to_assign_to_channel=\u001b[33m\"\u001b[39m\u001b[33m\"\u001b[39m,\n\u001b[32m    126\u001b[39m         min_val=-\u001b[32m10.0\u001b[39m, max_val=\u001b[32m10.0\u001b[39m, units=VoltageUnits.VOLTS,\n\u001b[32m    127\u001b[39m         custom_scale_name=\u001b[33m\"\u001b[39m\u001b[33m\"\u001b[39m):\n\u001b[32m    128\u001b[39m \u001b[38;5;250m    \u001b[39m\u001b[33;03m\"\"\"\u001b[39;00m\n\u001b[32m    129\u001b[39m \u001b[33;03m    Creates channel(s) to generate voltage.\u001b[39;00m\n\u001b[32m    130\u001b[39m \n\u001b[32m   (...)\u001b[39m\u001b[32m    155\u001b[39m \u001b[33;03m        Indicates the newly created channel object.\u001b[39;00m\n\u001b[32m    156\u001b[39m \u001b[33;03m    \"\"\"\u001b[39;00m\n\u001b[32m--> \u001b[39m\u001b[32m158\u001b[39m     \u001b[38;5;28;43mself\u001b[39;49m\u001b[43m.\u001b[49m\u001b[43m_interpreter\u001b[49m\u001b[43m.\u001b[49m\u001b[43mcreate_ao_voltage_chan\u001b[49m\u001b[43m(\u001b[49m\n\u001b[32m    159\u001b[39m \u001b[43m        \u001b[49m\u001b[38;5;28;43mself\u001b[39;49m\u001b[43m.\u001b[49m\u001b[43m_handle\u001b[49m\u001b[43m,\u001b[49m\u001b[43m \u001b[49m\u001b[43mphysical_channel\u001b[49m\u001b[43m,\u001b[49m\u001b[43m \u001b[49m\u001b[43mname_to_assign_to_channel\u001b[49m\u001b[43m,\u001b[49m\n\u001b[32m    160\u001b[39m \u001b[43m        \u001b[49m\u001b[43mmin_val\u001b[49m\u001b[43m,\u001b[49m\u001b[43m \u001b[49m\u001b[43mmax_val\u001b[49m\u001b[43m,\u001b[49m\u001b[43m \u001b[49m\u001b[43munits\u001b[49m\u001b[43m.\u001b[49m\u001b[43mvalue\u001b[49m\u001b[43m,\u001b[49m\u001b[43m \u001b[49m\u001b[43mcustom_scale_name\u001b[49m\u001b[43m)\u001b[49m\n\u001b[32m    162\u001b[39m     \u001b[38;5;28;01mreturn\u001b[39;00m \u001b[38;5;28mself\u001b[39m._create_chan(physical_channel, name_to_assign_to_channel)\n",
      "\u001b[36mFile \u001b[39m\u001b[32m~\\AppData\\Local\\Packages\\PythonSoftwareFoundation.Python.3.11_qbz5n2kfra8p0\\LocalCache\\local-packages\\Python311\\site-packages\\nidaqmx\\_library_interpreter.py:1407\u001b[39m, in \u001b[36mLibraryInterpreter.create_ao_voltage_chan\u001b[39m\u001b[34m(self, task, physical_channel, name_to_assign_to_channel, min_val, max_val, units, custom_scale_name)\u001b[39m\n\u001b[32m   1399\u001b[39m             cfunc.argtypes = [\n\u001b[32m   1400\u001b[39m                 lib_importer.task_handle, ctypes_byte_str,\n\u001b[32m   1401\u001b[39m                 ctypes_byte_str, ctypes.c_double, ctypes.c_double,\n\u001b[32m   1402\u001b[39m                 ctypes.c_int, ctypes_byte_str]\n\u001b[32m   1404\u001b[39m error_code = cfunc(\n\u001b[32m   1405\u001b[39m     task, physical_channel, name_to_assign_to_channel, min_val,\n\u001b[32m   1406\u001b[39m     max_val, units, custom_scale_name)\n\u001b[32m-> \u001b[39m\u001b[32m1407\u001b[39m \u001b[38;5;28;43mself\u001b[39;49m\u001b[43m.\u001b[49m\u001b[43mcheck_for_error\u001b[49m\u001b[43m(\u001b[49m\u001b[43merror_code\u001b[49m\u001b[43m)\u001b[49m\n",
      "\u001b[36mFile \u001b[39m\u001b[32m~\\AppData\\Local\\Packages\\PythonSoftwareFoundation.Python.3.11_qbz5n2kfra8p0\\LocalCache\\local-packages\\Python311\\site-packages\\nidaqmx\\_library_interpreter.py:6412\u001b[39m, in \u001b[36mLibraryInterpreter.check_for_error\u001b[39m\u001b[34m(self, error_code, samps_per_chan_written, samps_per_chan_read)\u001b[39m\n\u001b[32m   6410\u001b[39m         \u001b[38;5;28;01mraise\u001b[39;00m DaqWriteError(extended_error_info, error_code, samps_per_chan_written)\n\u001b[32m   6411\u001b[39m     \u001b[38;5;28;01melse\u001b[39;00m:\n\u001b[32m-> \u001b[39m\u001b[32m6412\u001b[39m         \u001b[38;5;28;01mraise\u001b[39;00m DaqError(extended_error_info, error_code)\n\u001b[32m   6414\u001b[39m \u001b[38;5;28;01melif\u001b[39;00m error_code > \u001b[32m0\u001b[39m:\n\u001b[32m   6415\u001b[39m     error_string = \u001b[38;5;28mself\u001b[39m.get_error_string(error_code)\n",
      "\u001b[31mDaqError\u001b[39m: Device identifier is invalid.\nDevice Specified: Dev1\n\nTask Name: _unnamedTask<1>\n\nStatus Code: -200220"
     ]
    }
   ],
   "source": [
    "import nidaqmx\n",
    "from nidaqmx.constants import AcquisitionType, RegenerationMode\n",
    "import numpy as np\n",
    "import time\n",
    "\n",
    "# Settings\n",
    "channel = \"Dev1/ao0\"              # Change to your device/channel\n",
    "sample_rate = 1000                # 1000 samples per second\n",
    "batch_size = 100                  # Send 100 samples per batch (0.1s of data)\n",
    "duration = 30                     # Total time to run in seconds\n",
    "\n",
    "# Create a new task\n",
    "with nidaqmx.Task() as task:\n",
    "    # 1. Add an analog output voltage channel\n",
    "    task.ao_channels.add_ao_voltage_chan(channel)\n",
    "\n",
    "    # 2. Configure the sample clock for continuous output\n",
    "    task.timing.cfg_samp_clk_timing(\n",
    "        rate=sample_rate,\n",
    "        sample_mode=AcquisitionType.CONTINUOUS,\n",
    "        samps_per_chan=batch_size * 10  # Buffer size (make it bigger than one batch)\n",
    "    )\n",
    "\n",
    "    # 3. Disable regeneration to force us to keep writing new data\n",
    "    task.out_stream.regen_mode = RegenerationMode.DONT_ALLOW_REGENERATION\n",
    "\n",
    "    # 4. Start the task\n",
    "    task.start()\n",
    "\n",
    "    print(\"Outputting random signal for 30 seconds...\")\n",
    "\n",
    "    start_time = time.time()\n",
    "    while time.time() - start_time < duration:\n",
    "        # 5. Generate a batch of random voltage values between -2V and 2V\n",
    "        voltage_batch = np.random.uniform(-2.0, 2.0, batch_size)\n",
    "\n",
    "        # 6. Write the batch to the device (do not auto-start; task already started)\n",
    "        task.write(voltage_batch, auto_start=False)\n",
    "\n",
    "        # 7. Wait a short time before sending the next batch (match sample rate)\n",
    "        time.sleep(batch_size / sample_rate)  # 0.1s in this case\n",
    "\n",
    "    print(\"Done.\")"
   ]
  },
  {
   "cell_type": "code",
   "execution_count": null,
   "id": "315c6c16",
   "metadata": {},
   "outputs": [],
   "source": []
  }
 ],
 "metadata": {
  "kernelspec": {
   "display_name": "Python 3",
   "language": "python",
   "name": "python3"
  },
  "language_info": {
   "codemirror_mode": {
    "name": "ipython",
    "version": 3
   },
   "file_extension": ".py",
   "mimetype": "text/x-python",
   "name": "python",
   "nbconvert_exporter": "python",
   "pygments_lexer": "ipython3",
   "version": "3.11.9"
  }
 },
 "nbformat": 4,
 "nbformat_minor": 5
}
