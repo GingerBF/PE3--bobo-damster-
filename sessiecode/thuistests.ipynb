{
 "cells": [
  {
   "cell_type": "code",
   "execution_count": 1,
   "id": "e51b987f",
   "metadata": {},
   "outputs": [
    {
     "ename": "DaqNotFoundError",
     "evalue": "Could not find an installation of NI-DAQmx. Please ensure that NI-DAQmx is installed on this machine or contact National Instruments for support.",
     "output_type": "error",
     "traceback": [
      "\u001b[1;31m---------------------------------------------------------------------------\u001b[0m",
      "\u001b[1;31mFileNotFoundError\u001b[0m                         Traceback (most recent call last)",
      "File \u001b[1;32mc:\\Users\\boazf\\anaconda3\\Lib\\site-packages\\nidaqmx\\_lib.py:198\u001b[0m, in \u001b[0;36mDaqLibImporter._import_lib\u001b[1;34m(self)\u001b[0m\n\u001b[0;32m    197\u001b[0m \u001b[38;5;28;01mtry\u001b[39;00m:\n\u001b[1;32m--> 198\u001b[0m     windll, cdll \u001b[38;5;241m=\u001b[39m _load_lib(\u001b[38;5;124m\"\u001b[39m\u001b[38;5;124mnicai_utf8\u001b[39m\u001b[38;5;124m\"\u001b[39m)\n\u001b[0;32m    199\u001b[0m     encoding \u001b[38;5;241m=\u001b[39m \u001b[38;5;124m'\u001b[39m\u001b[38;5;124mutf-8\u001b[39m\u001b[38;5;124m'\u001b[39m  \n",
      "File \u001b[1;32mc:\\Users\\boazf\\anaconda3\\Lib\\site-packages\\nidaqmx\\_lib.py:176\u001b[0m, in \u001b[0;36mDaqLibImporter._import_lib.<locals>._load_lib\u001b[1;34m(libname)\u001b[0m\n\u001b[0;32m    175\u001b[0m \u001b[38;5;28;01mdef\u001b[39;00m \u001b[38;5;21m_load_lib\u001b[39m(libname: \u001b[38;5;28mstr\u001b[39m):\n\u001b[1;32m--> 176\u001b[0m     windll \u001b[38;5;241m=\u001b[39m ctypes\u001b[38;5;241m.\u001b[39mwindll\u001b[38;5;241m.\u001b[39mLoadLibrary(libname)\n\u001b[0;32m    177\u001b[0m     cdll \u001b[38;5;241m=\u001b[39m ctypes\u001b[38;5;241m.\u001b[39mcdll\u001b[38;5;241m.\u001b[39mLoadLibrary(libname)\n",
      "File \u001b[1;32mc:\\Users\\boazf\\anaconda3\\Lib\\ctypes\\__init__.py:460\u001b[0m, in \u001b[0;36mLibraryLoader.LoadLibrary\u001b[1;34m(self, name)\u001b[0m\n\u001b[0;32m    459\u001b[0m \u001b[38;5;28;01mdef\u001b[39;00m \u001b[38;5;21mLoadLibrary\u001b[39m(\u001b[38;5;28mself\u001b[39m, name):\n\u001b[1;32m--> 460\u001b[0m     \u001b[38;5;28;01mreturn\u001b[39;00m \u001b[38;5;28mself\u001b[39m\u001b[38;5;241m.\u001b[39m_dlltype(name)\n",
      "File \u001b[1;32mc:\\Users\\boazf\\anaconda3\\Lib\\ctypes\\__init__.py:379\u001b[0m, in \u001b[0;36mCDLL.__init__\u001b[1;34m(self, name, mode, handle, use_errno, use_last_error, winmode)\u001b[0m\n\u001b[0;32m    378\u001b[0m \u001b[38;5;28;01mif\u001b[39;00m handle \u001b[38;5;129;01mis\u001b[39;00m \u001b[38;5;28;01mNone\u001b[39;00m:\n\u001b[1;32m--> 379\u001b[0m     \u001b[38;5;28mself\u001b[39m\u001b[38;5;241m.\u001b[39m_handle \u001b[38;5;241m=\u001b[39m _dlopen(\u001b[38;5;28mself\u001b[39m\u001b[38;5;241m.\u001b[39m_name, mode)\n\u001b[0;32m    380\u001b[0m \u001b[38;5;28;01melse\u001b[39;00m:\n",
      "\u001b[1;31mFileNotFoundError\u001b[0m: Could not find module 'nicai_utf8' (or one of its dependencies). Try using the full path with constructor syntax.",
      "\nDuring handling of the above exception, another exception occurred:\n",
      "\u001b[1;31mFileNotFoundError\u001b[0m                         Traceback (most recent call last)",
      "File \u001b[1;32mc:\\Users\\boazf\\anaconda3\\Lib\\site-packages\\nidaqmx\\_lib.py:203\u001b[0m, in \u001b[0;36mDaqLibImporter._import_lib\u001b[1;34m(self)\u001b[0m\n\u001b[0;32m    202\u001b[0m \u001b[38;5;28;01mtry\u001b[39;00m:\n\u001b[1;32m--> 203\u001b[0m     windll, cdll \u001b[38;5;241m=\u001b[39m _load_lib(\u001b[38;5;124m\"\u001b[39m\u001b[38;5;124mnicaiu\u001b[39m\u001b[38;5;124m\"\u001b[39m)\n\u001b[0;32m    204\u001b[0m     encoding \u001b[38;5;241m=\u001b[39m locale\u001b[38;5;241m.\u001b[39mgetlocale()[\u001b[38;5;241m1\u001b[39m]\n",
      "File \u001b[1;32mc:\\Users\\boazf\\anaconda3\\Lib\\site-packages\\nidaqmx\\_lib.py:176\u001b[0m, in \u001b[0;36mDaqLibImporter._import_lib.<locals>._load_lib\u001b[1;34m(libname)\u001b[0m\n\u001b[0;32m    175\u001b[0m \u001b[38;5;28;01mdef\u001b[39;00m \u001b[38;5;21m_load_lib\u001b[39m(libname: \u001b[38;5;28mstr\u001b[39m):\n\u001b[1;32m--> 176\u001b[0m     windll \u001b[38;5;241m=\u001b[39m ctypes\u001b[38;5;241m.\u001b[39mwindll\u001b[38;5;241m.\u001b[39mLoadLibrary(libname)\n\u001b[0;32m    177\u001b[0m     cdll \u001b[38;5;241m=\u001b[39m ctypes\u001b[38;5;241m.\u001b[39mcdll\u001b[38;5;241m.\u001b[39mLoadLibrary(libname)\n",
      "File \u001b[1;32mc:\\Users\\boazf\\anaconda3\\Lib\\ctypes\\__init__.py:460\u001b[0m, in \u001b[0;36mLibraryLoader.LoadLibrary\u001b[1;34m(self, name)\u001b[0m\n\u001b[0;32m    459\u001b[0m \u001b[38;5;28;01mdef\u001b[39;00m \u001b[38;5;21mLoadLibrary\u001b[39m(\u001b[38;5;28mself\u001b[39m, name):\n\u001b[1;32m--> 460\u001b[0m     \u001b[38;5;28;01mreturn\u001b[39;00m \u001b[38;5;28mself\u001b[39m\u001b[38;5;241m.\u001b[39m_dlltype(name)\n",
      "File \u001b[1;32mc:\\Users\\boazf\\anaconda3\\Lib\\ctypes\\__init__.py:379\u001b[0m, in \u001b[0;36mCDLL.__init__\u001b[1;34m(self, name, mode, handle, use_errno, use_last_error, winmode)\u001b[0m\n\u001b[0;32m    378\u001b[0m \u001b[38;5;28;01mif\u001b[39;00m handle \u001b[38;5;129;01mis\u001b[39;00m \u001b[38;5;28;01mNone\u001b[39;00m:\n\u001b[1;32m--> 379\u001b[0m     \u001b[38;5;28mself\u001b[39m\u001b[38;5;241m.\u001b[39m_handle \u001b[38;5;241m=\u001b[39m _dlopen(\u001b[38;5;28mself\u001b[39m\u001b[38;5;241m.\u001b[39m_name, mode)\n\u001b[0;32m    380\u001b[0m \u001b[38;5;28;01melse\u001b[39;00m:\n",
      "\u001b[1;31mFileNotFoundError\u001b[0m: Could not find module 'nicaiu' (or one of its dependencies). Try using the full path with constructor syntax.",
      "\nThe above exception was the direct cause of the following exception:\n",
      "\u001b[1;31mDaqNotFoundError\u001b[0m                          Traceback (most recent call last)",
      "Cell \u001b[1;32mIn[1], line 4\u001b[0m\n\u001b[0;32m      1\u001b[0m \u001b[38;5;28;01mimport\u001b[39;00m \u001b[38;5;21;01mnidaqmx\u001b[39;00m\n\u001b[0;32m      3\u001b[0m \u001b[38;5;66;03m# Create a dummy task\u001b[39;00m\n\u001b[1;32m----> 4\u001b[0m \u001b[38;5;28;01mwith\u001b[39;00m nidaqmx\u001b[38;5;241m.\u001b[39mTask() \u001b[38;5;28;01mas\u001b[39;00m task:\n\u001b[0;32m      5\u001b[0m     \u001b[38;5;28mprint\u001b[39m(\u001b[38;5;124m\"\u001b[39m\u001b[38;5;124mTask object created.\u001b[39m\u001b[38;5;124m\"\u001b[39m)\n\u001b[0;32m      7\u001b[0m     \u001b[38;5;66;03m# Check if 'timing' attribute exists\u001b[39;00m\n",
      "File \u001b[1;32mc:\\Users\\boazf\\anaconda3\\Lib\\site-packages\\nidaqmx\\task\\_task.py:91\u001b[0m, in \u001b[0;36mTask.__init__\u001b[1;34m(self, new_task_name, grpc_options)\u001b[0m\n\u001b[0;32m     83\u001b[0m \u001b[38;5;28;01mif\u001b[39;00m grpc_options \u001b[38;5;129;01mand\u001b[39;00m \u001b[38;5;129;01mnot\u001b[39;00m (\n\u001b[0;32m     84\u001b[0m     grpc_options\u001b[38;5;241m.\u001b[39msession_name \u001b[38;5;241m==\u001b[39m \u001b[38;5;124m\"\u001b[39m\u001b[38;5;124m\"\u001b[39m \u001b[38;5;129;01mor\u001b[39;00m grpc_options\u001b[38;5;241m.\u001b[39msession_name \u001b[38;5;241m==\u001b[39m new_task_name\n\u001b[0;32m     85\u001b[0m ):\n\u001b[0;32m     86\u001b[0m     \u001b[38;5;28;01mraise\u001b[39;00m DaqError(\n\u001b[0;32m     87\u001b[0m         \u001b[38;5;124mf\u001b[39m\u001b[38;5;124m'\u001b[39m\u001b[38;5;124mUnsupported session name: \u001b[39m\u001b[38;5;124m\"\u001b[39m\u001b[38;5;132;01m{\u001b[39;00mgrpc_options\u001b[38;5;241m.\u001b[39msession_name\u001b[38;5;132;01m}\u001b[39;00m\u001b[38;5;124m\"\u001b[39m\u001b[38;5;124m. If a session name is specified, it must match the task name.\u001b[39m\u001b[38;5;124m'\u001b[39m,\n\u001b[0;32m     88\u001b[0m         DAQmxErrors\u001b[38;5;241m.\u001b[39mUNKNOWN,\n\u001b[0;32m     89\u001b[0m         task_name\u001b[38;5;241m=\u001b[39mnew_task_name)\n\u001b[1;32m---> 91\u001b[0m \u001b[38;5;28mself\u001b[39m\u001b[38;5;241m.\u001b[39m_interpreter \u001b[38;5;241m=\u001b[39m utils\u001b[38;5;241m.\u001b[39m_select_interpreter(grpc_options)\n\u001b[0;32m     92\u001b[0m \u001b[38;5;28mself\u001b[39m\u001b[38;5;241m.\u001b[39m_handle, \u001b[38;5;28mself\u001b[39m\u001b[38;5;241m.\u001b[39m_close_on_exit \u001b[38;5;241m=\u001b[39m \u001b[38;5;28mself\u001b[39m\u001b[38;5;241m.\u001b[39m_interpreter\u001b[38;5;241m.\u001b[39mcreate_task(new_task_name)\n\u001b[0;32m     94\u001b[0m \u001b[38;5;28mself\u001b[39m\u001b[38;5;241m.\u001b[39m_initialize(\u001b[38;5;28mself\u001b[39m\u001b[38;5;241m.\u001b[39m_handle, \u001b[38;5;28mself\u001b[39m\u001b[38;5;241m.\u001b[39m_interpreter)\n",
      "File \u001b[1;32mc:\\Users\\boazf\\anaconda3\\Lib\\site-packages\\nidaqmx\\utils.py:211\u001b[0m, in \u001b[0;36m_select_interpreter\u001b[1;34m(grpc_options, interpreter)\u001b[0m\n\u001b[0;32m    209\u001b[0m \u001b[38;5;28;01melse\u001b[39;00m:\n\u001b[0;32m    210\u001b[0m     \u001b[38;5;28;01mfrom\u001b[39;00m \u001b[38;5;21;01mnidaqmx\u001b[39;00m\u001b[38;5;21;01m.\u001b[39;00m\u001b[38;5;21;01m_library_interpreter\u001b[39;00m \u001b[38;5;28;01mimport\u001b[39;00m LibraryInterpreter\n\u001b[1;32m--> 211\u001b[0m     \u001b[38;5;28;01mreturn\u001b[39;00m LibraryInterpreter()\n",
      "File \u001b[1;32mc:\\Users\\boazf\\anaconda3\\Lib\\site-packages\\nidaqmx\\_library_interpreter.py:53\u001b[0m, in \u001b[0;36mLibraryInterpreter.__init__\u001b[1;34m(self)\u001b[0m\n\u001b[0;32m     51\u001b[0m     runtime_env \u001b[38;5;241m=\u001b[39m platform\u001b[38;5;241m.\u001b[39mpython_implementation()\n\u001b[0;32m     52\u001b[0m     version \u001b[38;5;241m=\u001b[39m platform\u001b[38;5;241m.\u001b[39mpython_version()\n\u001b[1;32m---> 53\u001b[0m     \u001b[38;5;28mself\u001b[39m\u001b[38;5;241m.\u001b[39mset_runtime_environment(\n\u001b[0;32m     54\u001b[0m         runtime_env,\n\u001b[0;32m     55\u001b[0m         version,\n\u001b[0;32m     56\u001b[0m         \u001b[38;5;124m'\u001b[39m\u001b[38;5;124m'\u001b[39m,\n\u001b[0;32m     57\u001b[0m         \u001b[38;5;124m'\u001b[39m\u001b[38;5;124m'\u001b[39m\n\u001b[0;32m     58\u001b[0m     )\n\u001b[0;32m     59\u001b[0m \u001b[38;5;28;01mexcept\u001b[39;00m DaqFunctionNotSupportedError:\n\u001b[0;32m     60\u001b[0m     \u001b[38;5;28;01mpass\u001b[39;00m\n",
      "File \u001b[1;32mc:\\Users\\boazf\\anaconda3\\Lib\\site-packages\\nidaqmx\\_library_interpreter.py:5310\u001b[0m, in \u001b[0;36mLibraryInterpreter.set_runtime_environment\u001b[1;34m(self, environment, environment_version, reserved_1, reserved_2)\u001b[0m\n\u001b[0;32m   5308\u001b[0m \u001b[38;5;28;01mdef\u001b[39;00m \u001b[38;5;21mset_runtime_environment\u001b[39m(\n\u001b[0;32m   5309\u001b[0m         \u001b[38;5;28mself\u001b[39m, environment, environment_version, reserved_1, reserved_2):\n\u001b[1;32m-> 5310\u001b[0m     cfunc \u001b[38;5;241m=\u001b[39m lib_importer\u001b[38;5;241m.\u001b[39mwindll\u001b[38;5;241m.\u001b[39mDAQmxSetRuntimeEnvironment\n\u001b[0;32m   5311\u001b[0m     \u001b[38;5;28;01mif\u001b[39;00m cfunc\u001b[38;5;241m.\u001b[39margtypes \u001b[38;5;129;01mis\u001b[39;00m \u001b[38;5;28;01mNone\u001b[39;00m:\n\u001b[0;32m   5312\u001b[0m         \u001b[38;5;28;01mwith\u001b[39;00m cfunc\u001b[38;5;241m.\u001b[39marglock:\n",
      "File \u001b[1;32mc:\\Users\\boazf\\anaconda3\\Lib\\site-packages\\nidaqmx\\_lib.py:138\u001b[0m, in \u001b[0;36mDaqLibImporter.windll\u001b[1;34m(self)\u001b[0m\n\u001b[0;32m    135\u001b[0m \u001b[38;5;129m@property\u001b[39m\n\u001b[0;32m    136\u001b[0m \u001b[38;5;28;01mdef\u001b[39;00m \u001b[38;5;21mwindll\u001b[39m(\u001b[38;5;28mself\u001b[39m):\n\u001b[0;32m    137\u001b[0m     \u001b[38;5;28;01mif\u001b[39;00m \u001b[38;5;28mself\u001b[39m\u001b[38;5;241m.\u001b[39m_windll \u001b[38;5;129;01mis\u001b[39;00m \u001b[38;5;28;01mNone\u001b[39;00m:\n\u001b[1;32m--> 138\u001b[0m         \u001b[38;5;28mself\u001b[39m\u001b[38;5;241m.\u001b[39m_import_lib()\n\u001b[0;32m    139\u001b[0m     \u001b[38;5;28;01mreturn\u001b[39;00m \u001b[38;5;28mself\u001b[39m\u001b[38;5;241m.\u001b[39m_windll\n",
      "File \u001b[1;32mc:\\Users\\boazf\\anaconda3\\Lib\\site-packages\\nidaqmx\\_lib.py:206\u001b[0m, in \u001b[0;36mDaqLibImporter._import_lib\u001b[1;34m(self)\u001b[0m\n\u001b[0;32m    204\u001b[0m                 encoding \u001b[38;5;241m=\u001b[39m locale\u001b[38;5;241m.\u001b[39mgetlocale()[\u001b[38;5;241m1\u001b[39m]\n\u001b[0;32m    205\u001b[0m             \u001b[38;5;28;01mexcept\u001b[39;00m (\u001b[38;5;167;01mOSError\u001b[39;00m, \u001b[38;5;167;01mWindowsError\u001b[39;00m) \u001b[38;5;28;01mas\u001b[39;00m e:\n\u001b[1;32m--> 206\u001b[0m                 \u001b[38;5;28;01mraise\u001b[39;00m DaqNotFoundError(_DAQ_NOT_FOUND_MESSAGE) \u001b[38;5;28;01mfrom\u001b[39;00m \u001b[38;5;21;01me\u001b[39;00m       \n\u001b[0;32m    207\u001b[0m \u001b[38;5;28;01melif\u001b[39;00m sys\u001b[38;5;241m.\u001b[39mplatform\u001b[38;5;241m.\u001b[39mstartswith(\u001b[38;5;124m'\u001b[39m\u001b[38;5;124mlinux\u001b[39m\u001b[38;5;124m'\u001b[39m):\n\u001b[0;32m    208\u001b[0m     library_path \u001b[38;5;241m=\u001b[39m find_library(\u001b[38;5;124m'\u001b[39m\u001b[38;5;124mnidaqmx\u001b[39m\u001b[38;5;124m'\u001b[39m)\n",
      "\u001b[1;31mDaqNotFoundError\u001b[0m: Could not find an installation of NI-DAQmx. Please ensure that NI-DAQmx is installed on this machine or contact National Instruments for support."
     ]
    }
   ],
   "source": [
    "import nidaqmx\n",
    "\n",
    "# Create a dummy task\n",
    "with nidaqmx.Task() as task:\n",
    "    print(\"Task object created.\")\n",
    "    \n",
    "    # Check if 'timing' attribute exists\n",
    "    print(\"Has 'timing':\", hasattr(task, 'timing'))\n",
    "\n",
    "    # Check for 'cfg_samp_clk_timing' method inside the timing object\n",
    "    print(\"Has 'cfg_samp_clk_timing':\", hasattr(task.timing, 'cfg_samp_clk_timing'))\n",
    "\n",
    "    # Optionally print the method object itself\n",
    "    print(\"cfg_samp_clk_timing method:\", task.timing.cfg_samp_clk_timing)"
   ]
  }
 ],
 "metadata": {
  "kernelspec": {
   "display_name": "base",
   "language": "python",
   "name": "python3"
  },
  "language_info": {
   "codemirror_mode": {
    "name": "ipython",
    "version": 3
   },
   "file_extension": ".py",
   "mimetype": "text/x-python",
   "name": "python",
   "nbconvert_exporter": "python",
   "pygments_lexer": "ipython3",
   "version": "3.12.4"
  }
 },
 "nbformat": 4,
 "nbformat_minor": 5
}
