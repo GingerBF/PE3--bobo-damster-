{
 "cells": [
  {
   "cell_type": "code",
   "execution_count": 1,
   "id": "e51b987f",
   "metadata": {},
   "outputs": [
    {
     "name": "stdout",
     "output_type": "stream",
     "text": [
      "Task object created.\n",
      "Has 'timing': True\n",
      "Has 'cfg_samp_clk_timing': True\n",
      "cfg_samp_clk_timing method: <bound method Timing.cfg_samp_clk_timing of <nidaqmx.task._timing.Timing object at 0x00000272DB6BFE10>>\n"
     ]
    }
   ],
   "source": [
    "import nidaqmx\n",
    "\n",
    "# Create a dummy task\n",
    "with nidaqmx.Task() as task:\n",
    "    print(\"Task object created.\")\n",
    "    \n",
    "    # Check if 'timing' attribute exists\n",
    "    print(\"Has 'timing':\", hasattr(task, 'timing'))\n",
    "\n",
    "    # Check for 'cfg_samp_clk_timing' method inside the timing object\n",
    "    print(\"Has 'cfg_samp_clk_timing':\", hasattr(task.timing, 'cfg_samp_clk_timing'))\n",
    "\n",
    "    # Optionally print the method object itself\n",
    "    print(\"cfg_samp_clk_timing method:\", task.timing.cfg_samp_clk_timing)"
   ]
  },
  {
   "cell_type": "code",
   "execution_count": null,
   "id": "2c31bf8c",
   "metadata": {},
   "outputs": [
    {
     "name": "stdout",
     "output_type": "stream",
     "text": [
      "Outputting random signal for 30 seconds...\n"
     ]
    },
    {
     "ename": "DaqWriteError",
     "evalue": "Some or all of the samples to write could not be written to the buffer yet. More space will free up as samples currently in the buffer are generated.\n\nTo wait for more space to become available, use a longer write timeout. To make the space available sooner, increase the sample rate.\nProperty: DAQmx_Write_RelativeTo\nCorresponding Value: DAQmx_Val_CurrWritePos\nProperty: DAQmx_Write_Offset\nCorresponding Value: 0\n\nTask Name: _unnamedTask<4>\n\nStatus Code: -200292",
     "output_type": "error",
     "traceback": [
      "\u001b[31m---------------------------------------------------------------------------\u001b[39m",
      "\u001b[31mDaqWriteError\u001b[39m                             Traceback (most recent call last)",
      "\u001b[36mCell\u001b[39m\u001b[36m \u001b[39m\u001b[32mIn[5]\u001b[39m\u001b[32m, line 40\u001b[39m\n\u001b[32m     37\u001b[39m voltage_batch = np.random.uniform(-\u001b[32m2.0\u001b[39m, \u001b[32m2.0\u001b[39m, batch_size)\n\u001b[32m     39\u001b[39m \u001b[38;5;66;03m# 6. Write the batch to the device (do not auto-start; task already started)\u001b[39;00m\n\u001b[32m---> \u001b[39m\u001b[32m40\u001b[39m \u001b[43mao_task\u001b[49m\u001b[43m.\u001b[49m\u001b[43mwrite\u001b[49m\u001b[43m(\u001b[49m\u001b[43mvoltage_batch\u001b[49m\u001b[43m,\u001b[49m\u001b[43m \u001b[49m\u001b[43mauto_start\u001b[49m\u001b[43m=\u001b[49m\u001b[38;5;28;43;01mFalse\u001b[39;49;00m\u001b[43m)\u001b[49m\n\u001b[32m     42\u001b[39m \u001b[38;5;66;03m# 7. Wait a short time before sending the next batch (match sample rate)\u001b[39;00m\n\u001b[32m     43\u001b[39m time.sleep(batch_size / sample_rate)  \u001b[38;5;66;03m# 0.1s in this case\u001b[39;00m\n",
      "\u001b[36mFile \u001b[39m\u001b[32m~\\AppData\\Local\\Packages\\PythonSoftwareFoundation.Python.3.11_qbz5n2kfra8p0\\LocalCache\\local-packages\\Python311\\site-packages\\nidaqmx\\task\\_task.py:1221\u001b[39m, in \u001b[36mTask.write\u001b[39m\u001b[34m(self, data, auto_start, timeout)\u001b[39m\n\u001b[32m   1219\u001b[39m \u001b[38;5;28;01mif\u001b[39;00m write_chan_type == ChannelType.ANALOG_OUTPUT:\n\u001b[32m   1220\u001b[39m     data = numpy.asarray(data, dtype=numpy.float64)\n\u001b[32m-> \u001b[39m\u001b[32m1221\u001b[39m     \u001b[38;5;28;01mreturn\u001b[39;00m \u001b[38;5;28;43mself\u001b[39;49m\u001b[43m.\u001b[49m\u001b[43m_interpreter\u001b[49m\u001b[43m.\u001b[49m\u001b[43mwrite_analog_f64\u001b[49m\u001b[43m(\u001b[49m\n\u001b[32m   1222\u001b[39m \u001b[43m        \u001b[49m\u001b[38;5;28;43mself\u001b[39;49m\u001b[43m.\u001b[49m\u001b[43m_handle\u001b[49m\u001b[43m,\u001b[49m\u001b[43m \u001b[49m\u001b[43mnumber_of_samples_per_channel\u001b[49m\u001b[43m,\u001b[49m\u001b[43m \u001b[49m\u001b[43mauto_start\u001b[49m\u001b[43m,\u001b[49m\n\u001b[32m   1223\u001b[39m \u001b[43m        \u001b[49m\u001b[43mtimeout\u001b[49m\u001b[43m,\u001b[49m\u001b[43m \u001b[49m\u001b[43mFillMode\u001b[49m\u001b[43m.\u001b[49m\u001b[43mGROUP_BY_CHANNEL\u001b[49m\u001b[43m.\u001b[49m\u001b[43mvalue\u001b[49m\u001b[43m,\u001b[49m\u001b[43m \u001b[49m\u001b[43mdata\u001b[49m\u001b[43m)\u001b[49m\n\u001b[32m   1225\u001b[39m \u001b[38;5;28;01melif\u001b[39;00m write_chan_type == ChannelType.DIGITAL_OUTPUT:\n\u001b[32m   1226\u001b[39m     \u001b[38;5;28;01mif\u001b[39;00m \u001b[38;5;28mself\u001b[39m.out_stream.do_num_booleans_per_chan == \u001b[32m1\u001b[39m:\n",
      "\u001b[36mFile \u001b[39m\u001b[32m~\\AppData\\Local\\Packages\\PythonSoftwareFoundation.Python.3.11_qbz5n2kfra8p0\\LocalCache\\local-packages\\Python311\\site-packages\\nidaqmx\\_library_interpreter.py:5934\u001b[39m, in \u001b[36mLibraryInterpreter.write_analog_f64\u001b[39m\u001b[34m(self, task, num_samps_per_chan, auto_start, timeout, data_layout, write_array)\u001b[39m\n\u001b[32m   5925\u001b[39m             cfunc.argtypes = [\n\u001b[32m   5926\u001b[39m                 lib_importer.task_handle, ctypes.c_int, c_bool32,\n\u001b[32m   5927\u001b[39m                 ctypes.c_double, ctypes.c_int,\n\u001b[32m   5928\u001b[39m                 wrapped_ndpointer(dtype=numpy.float64, flags=(\u001b[33m'\u001b[39m\u001b[33mC\u001b[39m\u001b[33m'\u001b[39m)),\n\u001b[32m   5929\u001b[39m                 ctypes.POINTER(ctypes.c_int), ctypes.POINTER(c_bool32)]\n\u001b[32m   5931\u001b[39m error_code = cfunc(\n\u001b[32m   5932\u001b[39m     task, num_samps_per_chan, auto_start, timeout, data_layout,\n\u001b[32m   5933\u001b[39m     write_array, ctypes.byref(samps_per_chan_written), \u001b[38;5;28;01mNone\u001b[39;00m)\n\u001b[32m-> \u001b[39m\u001b[32m5934\u001b[39m \u001b[38;5;28;43mself\u001b[39;49m\u001b[43m.\u001b[49m\u001b[43mcheck_for_error\u001b[49m\u001b[43m(\u001b[49m\u001b[43merror_code\u001b[49m\u001b[43m,\u001b[49m\u001b[43m \u001b[49m\u001b[43msamps_per_chan_written\u001b[49m\u001b[43m=\u001b[49m\u001b[43msamps_per_chan_written\u001b[49m\u001b[43m.\u001b[49m\u001b[43mvalue\u001b[49m\u001b[43m)\u001b[49m\n\u001b[32m   5935\u001b[39m \u001b[38;5;28;01mreturn\u001b[39;00m samps_per_chan_written.value\n",
      "\u001b[36mFile \u001b[39m\u001b[32m~\\AppData\\Local\\Packages\\PythonSoftwareFoundation.Python.3.11_qbz5n2kfra8p0\\LocalCache\\local-packages\\Python311\\site-packages\\nidaqmx\\_library_interpreter.py:6410\u001b[39m, in \u001b[36mLibraryInterpreter.check_for_error\u001b[39m\u001b[34m(self, error_code, samps_per_chan_written, samps_per_chan_read)\u001b[39m\n\u001b[32m   6408\u001b[39m     \u001b[38;5;28;01mraise\u001b[39;00m DaqReadError(extended_error_info, error_code, samps_per_chan_read)\n\u001b[32m   6409\u001b[39m \u001b[38;5;28;01melif\u001b[39;00m samps_per_chan_written \u001b[38;5;129;01mis\u001b[39;00m \u001b[38;5;129;01mnot\u001b[39;00m \u001b[38;5;28;01mNone\u001b[39;00m:\n\u001b[32m-> \u001b[39m\u001b[32m6410\u001b[39m     \u001b[38;5;28;01mraise\u001b[39;00m DaqWriteError(extended_error_info, error_code, samps_per_chan_written)\n\u001b[32m   6411\u001b[39m \u001b[38;5;28;01melse\u001b[39;00m:\n\u001b[32m   6412\u001b[39m     \u001b[38;5;28;01mraise\u001b[39;00m DaqError(extended_error_info, error_code)\n",
      "\u001b[31mDaqWriteError\u001b[39m: Some or all of the samples to write could not be written to the buffer yet. More space will free up as samples currently in the buffer are generated.\n\nTo wait for more space to become available, use a longer write timeout. To make the space available sooner, increase the sample rate.\nProperty: DAQmx_Write_RelativeTo\nCorresponding Value: DAQmx_Val_CurrWritePos\nProperty: DAQmx_Write_Offset\nCorresponding Value: 0\n\nTask Name: _unnamedTask<4>\n\nStatus Code: -200292"
     ]
    }
   ],
   "source": [
    "import nidaqmx\n",
    "from nidaqmx.constants import AcquisitionType, RegenerationMode\n",
    "import numpy as np\n",
    "import time\n",
    "\n",
    "# Settings\n",
    "channel = \"myDAQ1/ao0\"              # Change to your device/channel\n",
    "sample_rate = 1000                # 1000 samples per second\n",
    "batch_size = 100                  # Send 100 samples per batch (0.1s of data)\n",
    "duration = 30                     # Total time to run in seconds\n",
    "\n",
    "# Create a new task\n",
    "with nidaqmx.Task() as task:\n",
    "    # 1. Add an analog output voltage channel\n",
    "    task.ao_channels.add_ao_voltage_chan(channel)\n",
    "\n",
    "    # 2. Configure the sample clock for continuous output\n",
    "    task.timing.cfg_samp_clk_timing(\n",
    "        rate=sample_rate,\n",
    "        sample_mode=AcquisitionType.CONTINUOUS,\n",
    "        samps_per_chan=batch_size * 10  # Buffer size (make it bigger than one batch)\n",
    "    )\n",
    "\n",
    "    # 3. Disable regeneration to force us to keep writing new data\n",
    "    task.out_stream.regen_mode = RegenerationMode.DONT_ALLOW_REGENERATION\n",
    "    initial_batch = np.random.uniform(-2.0, 2.0, batch_size)\n",
    "    task.write(initial_batch, auto_start=False)\n",
    "    # 4. Start the task\n",
    "    task.start()\n",
    "\n",
    "    print(\"Outputting random signal for 30 seconds...\")\n",
    "\n",
    "    start_time = time.time()\n",
    "    while time.time() - start_time < duration:\n",
    "        # 5. Generate a batch of random voltage values between -2V and 2V\n",
    "        voltage_batch = np.random.uniform(-2.0, 2.0, batch_size)\n",
    "\n",
    "        # 6. Write the batch to the device (do not auto-start; task already started)\n",
    "        task.write(voltage_batch, auto_start=False)\n",
    "\n",
    "        # 7. Wait a short time before sending the next batch (match sample rate)\n",
    "        time.sleep(batch_size / sample_rate)  # 0.1s in this case\n",
    "\n",
    "    print(\"Done.\")"
   ]
  },
  {
   "cell_type": "code",
   "execution_count": null,
   "id": "315c6c16",
   "metadata": {},
   "outputs": [],
   "source": []
  }
 ],
 "metadata": {
  "kernelspec": {
   "display_name": "Python 3",
   "language": "python",
   "name": "python3"
  },
  "language_info": {
   "codemirror_mode": {
    "name": "ipython",
    "version": 3
   },
   "file_extension": ".py",
   "mimetype": "text/x-python",
   "name": "python",
   "nbconvert_exporter": "python",
   "pygments_lexer": "ipython3",
   "version": "3.11.9"
  }
 },
 "nbformat": 4,
 "nbformat_minor": 5
}
