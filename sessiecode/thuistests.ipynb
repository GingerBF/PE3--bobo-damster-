{
 "cells": [
  {
   "cell_type": "code",
   "execution_count": 1,
   "id": "e51b987f",
   "metadata": {},
   "outputs": [
    {
     "name": "stdout",
     "output_type": "stream",
     "text": [
      "Task object created.\n",
      "Has 'timing': True\n",
      "Has 'cfg_samp_clk_timing': True\n",
      "cfg_samp_clk_timing method: <bound method Timing.cfg_samp_clk_timing of <nidaqmx.task._timing.Timing object at 0x00000272DB6BFE10>>\n"
     ]
    }
   ],
   "source": [
    "import nidaqmx\n",
    "\n",
    "# Create a dummy task\n",
    "with nidaqmx.Task() as task:\n",
    "    print(\"Task object created.\")\n",
    "    \n",
    "    # Check if 'timing' attribute exists\n",
    "    print(\"Has 'timing':\", hasattr(task, 'timing'))\n",
    "\n",
    "    # Check for 'cfg_samp_clk_timing' method inside the timing object\n",
    "    print(\"Has 'cfg_samp_clk_timing':\", hasattr(task.timing, 'cfg_samp_clk_timing'))\n",
    "\n",
    "    # Optionally print the method object itself\n",
    "    print(\"cfg_samp_clk_timing method:\", task.timing.cfg_samp_clk_timing)"
   ]
  },
  {
   "cell_type": "code",
   "execution_count": null,
   "id": "2c31bf8c",
   "metadata": {},
   "outputs": [],
   "source": []
  }
 ],
 "metadata": {
  "kernelspec": {
   "display_name": "Python 3",
   "language": "python",
   "name": "python3"
  },
  "language_info": {
   "codemirror_mode": {
    "name": "ipython",
    "version": 3
   },
   "file_extension": ".py",
   "mimetype": "text/x-python",
   "name": "python",
   "nbconvert_exporter": "python",
   "pygments_lexer": "ipython3",
   "version": "3.11.9"
  }
 },
 "nbformat": 4,
 "nbformat_minor": 5
}
